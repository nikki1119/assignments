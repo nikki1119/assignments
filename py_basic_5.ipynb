{
 "cells": [
  {
   "cell_type": "code",
   "execution_count": 1,
   "id": "38196b02",
   "metadata": {},
   "outputs": [],
   "source": [
    "#1. What does an empty dictionary's code look like?\n",
    "emp_dic = {}\n"
   ]
  },
  {
   "cell_type": "code",
   "execution_count": 2,
   "id": "ddc76f22",
   "metadata": {},
   "outputs": [],
   "source": [
    "#2. What is the value of a dictionary value with the key 'foo' and the value 42?\n",
    "\n",
    "dic1 = {'foo': 42}"
   ]
  },
  {
   "cell_type": "code",
   "execution_count": 8,
   "id": "cbb4cd59",
   "metadata": {},
   "outputs": [
    {
     "name": "stdout",
     "output_type": "stream",
     "text": [
      "ritu\n",
      "['prasanth', 'ritu', 'sonali', 'suhas']\n"
     ]
    }
   ],
   "source": [
    "# 3. What is the most significant distinction between a dictionary and a list?\n",
    "'''\n",
    "List is ordered whereas Dictionary is not.\n",
    "When the elements/values are mapped to meaningful keys dictionary is created, whereas List has elements in order which means \n",
    "a value is obtained from a list from its index which is rather meaningless\n",
    "In a dictionary values are in one-one relationship, and List is just array of elements with or without corelation\n",
    "The elements in a list can be repeated\n",
    "the keys in a dictionary cannot be repetetive\n",
    "'''\n",
    "dic2 = {'rank1':'prasanth', 'rank3':'ritu', 'rank4': 'sonali','rank2': 'suhas'}\n",
    "list1 = ['prasanth','ritu','sonali','suhas']\n",
    "print(dic2['rank3'])\n",
    "print(list1)"
   ]
  },
  {
   "cell_type": "code",
   "execution_count": 10,
   "id": "9970e8fa",
   "metadata": {},
   "outputs": [
    {
     "ename": "KeyError",
     "evalue": "'foo'",
     "output_type": "error",
     "traceback": [
      "\u001b[1;31m---------------------------------------------------------------------------\u001b[0m",
      "\u001b[1;31mKeyError\u001b[0m                                  Traceback (most recent call last)",
      "Cell \u001b[1;32mIn[10], line 3\u001b[0m\n\u001b[0;32m      1\u001b[0m \u001b[38;5;66;03m#4. What happens if you try to access spam['foo'] if spam is {'bar': 100}?\u001b[39;00m\n\u001b[0;32m      2\u001b[0m spam \u001b[38;5;241m=\u001b[39m {\u001b[38;5;124m'\u001b[39m\u001b[38;5;124mbar\u001b[39m\u001b[38;5;124m'\u001b[39m: \u001b[38;5;241m100\u001b[39m}\n\u001b[1;32m----> 3\u001b[0m \u001b[43mspam\u001b[49m\u001b[43m[\u001b[49m\u001b[38;5;124;43m'\u001b[39;49m\u001b[38;5;124;43mfoo\u001b[39;49m\u001b[38;5;124;43m'\u001b[39;49m\u001b[43m]\u001b[49m\n",
      "\u001b[1;31mKeyError\u001b[0m: 'foo'"
     ]
    }
   ],
   "source": [
    "#4. What happens if you try to access spam['foo'] if spam is {'bar': 100}?\n",
    "spam = {'bar': 100}\n",
    "spam['foo']\n",
    "\n",
    "'''\n",
    "error as the key-value pair is not defined/created '''"
   ]
  },
  {
   "cell_type": "code",
   "execution_count": 27,
   "id": "4052f249",
   "metadata": {},
   "outputs": [
    {
     "name": "stdout",
     "output_type": "stream",
     "text": [
      "flowers\n",
      "dict_keys(['cat', 'cat2', 'cat3'])\n",
      "['cat', 'cat2', 'cat3']\n",
      "cat\n"
     ]
    }
   ],
   "source": [
    "#5. If a dictionary is stored in spam, what is the difference between the expressions 'cat' in spam and 'cat' in spam.keys()?\n",
    "'''\n",
    "'cat' in spam: returns the value associated with the key 'cat'\n",
    "spam.keys() return a view object that has all the keys, this can be viewed as list by using list(spam.keys()) for\n",
    "further accessing only key values\n",
    "'''\n",
    "spam = {'cat':'flowers','cat2':'fruits','cat3':'animals'}\n",
    "print(spam['cat'])\n",
    "print(spam.keys())\n",
    "print(list(spam.keys()))\n",
    "print(list(spam.keys())[0])"
   ]
  },
  {
   "cell_type": "code",
   "execution_count": 28,
   "id": "07d0684f",
   "metadata": {},
   "outputs": [
    {
     "data": {
      "text/plain": [
       "True"
      ]
     },
     "execution_count": 28,
     "metadata": {},
     "output_type": "execute_result"
    }
   ],
   "source": [
    "# logical expression if cat in spam returns True otherwise False\n",
    "\n",
    "'cat'in spam # 'cat' is present in dictionary called spam"
   ]
  },
  {
   "cell_type": "code",
   "execution_count": 29,
   "id": "f789061b",
   "metadata": {},
   "outputs": [
    {
     "data": {
      "text/plain": [
       "True"
      ]
     },
     "execution_count": 29,
     "metadata": {},
     "output_type": "execute_result"
    }
   ],
   "source": [
    "'cat' in spam.keys() # 'cat' is also present in spam keys i.e., 'cat' is a key in spam"
   ]
  },
  {
   "cell_type": "code",
   "execution_count": 30,
   "id": "ee28640c",
   "metadata": {},
   "outputs": [
    {
     "data": {
      "text/plain": [
       "True"
      ]
     },
     "execution_count": 30,
     "metadata": {},
     "output_type": "execute_result"
    }
   ],
   "source": [
    "# 6. If a dictionary is stored in spam, what is the difference between the expressions 'cat' in spam and 'cat' in spam.values()?\n",
    "\n",
    "spam = {'cat':'flowers','cat2':'fruits','cat3':'animals'}\n",
    "\n",
    "'cat'in spam"
   ]
  },
  {
   "cell_type": "code",
   "execution_count": 32,
   "id": "7cf819cf",
   "metadata": {},
   "outputs": [
    {
     "data": {
      "text/plain": [
       "dict_values(['flowers', 'fruits', 'animals'])"
      ]
     },
     "execution_count": 32,
     "metadata": {},
     "output_type": "execute_result"
    }
   ],
   "source": [
    "spam.values()"
   ]
  },
  {
   "cell_type": "code",
   "execution_count": 31,
   "id": "e3d7c455",
   "metadata": {},
   "outputs": [
    {
     "data": {
      "text/plain": [
       "False"
      ]
     },
     "execution_count": 31,
     "metadata": {},
     "output_type": "execute_result"
    }
   ],
   "source": [
    "'cat'in spam.values()"
   ]
  },
  {
   "cell_type": "code",
   "execution_count": 35,
   "id": "8a28500a",
   "metadata": {},
   "outputs": [],
   "source": [
    "# 7. What is a shortcut for the following code?\n",
    "#if 'color' not in spam:\n",
    "#    spam['color'] ='black'\n",
    "    \n",
    "'''\n",
    "The above code is creating a new key-value pair to spam dictionary\n",
    "Instead we can use:\n",
    "    \n",
    "    '''\n",
    "#spam = {'cat':'flowers','cat2':'fruits','cat3':'animals'}\n",
    "spam['color'] = 'black'"
   ]
  },
  {
   "cell_type": "code",
   "execution_count": 36,
   "id": "7a771278",
   "metadata": {},
   "outputs": [
    {
     "data": {
      "text/plain": [
       "{'cat': 'flowers', 'cat2': 'fruits', 'cat3': 'animals', 'color': 'black'}"
      ]
     },
     "execution_count": 36,
     "metadata": {},
     "output_type": "execute_result"
    }
   ],
   "source": [
    "spam"
   ]
  },
  {
   "cell_type": "code",
   "execution_count": 46,
   "id": "899d0018",
   "metadata": {},
   "outputs": [],
   "source": [
    "dic3= {'sfd':13, 'afdsd' :14, 'oiljo':16}"
   ]
  },
  {
   "cell_type": "code",
   "execution_count": 47,
   "id": "17fc5e40",
   "metadata": {},
   "outputs": [
    {
     "name": "stdout",
     "output_type": "stream",
     "text": [
      "{'afdsd': 14, 'oiljo': 16, 'sfd': 13}\n"
     ]
    }
   ],
   "source": [
    "#8. How do you \"pretty print\" dictionary values using which module and function?\n",
    "import pprint # built-in function pprint\n",
    "pprint.pp(dic3,sort_dicts=True)"
   ]
  },
  {
   "cell_type": "code",
   "execution_count": 49,
   "id": "9adac601",
   "metadata": {},
   "outputs": [
    {
     "data": {
      "text/plain": [
       "True"
      ]
     },
     "execution_count": 49,
     "metadata": {},
     "output_type": "execute_result"
    }
   ],
   "source": [
    "pprint.isreadable(dic3)"
   ]
  },
  {
   "cell_type": "code",
   "execution_count": 50,
   "id": "e5d4ff64",
   "metadata": {},
   "outputs": [
    {
     "data": {
      "text/plain": [
       "False"
      ]
     },
     "execution_count": 50,
     "metadata": {},
     "output_type": "execute_result"
    }
   ],
   "source": [
    "pprint.isrecursive(dic3)"
   ]
  },
  {
   "cell_type": "code",
   "execution_count": 54,
   "id": "9afd4ca6",
   "metadata": {},
   "outputs": [
    {
     "data": {
      "text/plain": [
       "\"{'cat': 'flowers', 'cat2': 'fruits', 'cat3': 'animals', 'color': 'black'}\""
      ]
     },
     "execution_count": 54,
     "metadata": {},
     "output_type": "execute_result"
    }
   ],
   "source": [
    "pprint.pformat(spam,indent=120)"
   ]
  },
  {
   "cell_type": "code",
   "execution_count": 55,
   "id": "58f0c623",
   "metadata": {},
   "outputs": [
    {
     "name": "stdout",
     "output_type": "stream",
     "text": [
      "{'cat': 'flowers',\n",
      " 'cat2': 'fruits',\n",
      " 'cat3': 'animals',\n",
      " 'color': 'black'}\n"
     ]
    }
   ],
   "source": [
    "pprint.pprint(spam, width = 20) #pprint module in pprint function"
   ]
  },
  {
   "cell_type": "code",
   "execution_count": null,
   "id": "328c7fa6",
   "metadata": {},
   "outputs": [],
   "source": []
  }
 ],
 "metadata": {
  "kernelspec": {
   "display_name": "Python 3 (ipykernel)",
   "language": "python",
   "name": "python3"
  },
  "language_info": {
   "codemirror_mode": {
    "name": "ipython",
    "version": 3
   },
   "file_extension": ".py",
   "mimetype": "text/x-python",
   "name": "python",
   "nbconvert_exporter": "python",
   "pygments_lexer": "ipython3",
   "version": "3.10.9"
  }
 },
 "nbformat": 4,
 "nbformat_minor": 5
}
