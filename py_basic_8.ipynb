{
 "cells": [
  {
   "cell_type": "code",
   "execution_count": 1,
   "id": "7ba8e75f",
   "metadata": {},
   "outputs": [
    {
     "data": {
      "text/plain": [
       "5"
      ]
     },
     "execution_count": 1,
     "metadata": {},
     "output_type": "execute_result"
    }
   ],
   "source": [
    "#1. In Python, what is the difference between a built-in function and a user-defined function? Provide an example of each.\n",
    "'''\n",
    "A built-in function is a function that is pre-defined in a programming language or software application.These functions are\n",
    "usually a part of the core functionality of the language or application & are available for use without the need to define them.\n",
    "\n",
    "A user-defined function, on the other hand, is a function that is defined by the user in their code. These functions are created\n",
    "to perform specific tasks and can be called upon whenever the need arises in the code. User-defined functions can also be\n",
    "referred to as custom functions or homemade functions\n",
    "\n",
    "'''\n",
    "#len(),type(),abs(),sum(),int(),str(),min(),max() # some examples of built-in funtions\n",
    "def userdef_fun(a,b):\n",
    "    return (a+b)\n",
    "userdef_fun(2,3) ## example of user defined function"
   ]
  },
  {
   "cell_type": "code",
   "execution_count": 2,
   "id": "70166723",
   "metadata": {},
   "outputs": [
    {
     "name": "stdout",
     "output_type": "stream",
     "text": [
      "(4+6j)\n",
      "(6+4j)\n",
      "5\n",
      "7\n"
     ]
    }
   ],
   "source": [
    "#2.How can you pass arguments to a function in Python?Explain the difference between positional arguments and keyword arguments.\n",
    "'''\n",
    "An argument is a variable, value or object passed to a function or method as input.\n",
    "There are two ways to pass arguments to a function in python: 1.positional 2. keyword\n",
    "postional arguments:  arguments that need to be given in the proper position or order\n",
    "keyword arguments : arguments given in the form keyword = value\n",
    "'''\n",
    "print(complex(4,6)) #positional\n",
    "print(complex(real = 6, imag = 4)) # keyword\n",
    "\n",
    "def fun(a,b,c):\n",
    "    return a*b+c\n",
    "\n",
    "print(fun(1,2,3)) #positional\n",
    "print(fun(a= 2,b=3,c=1)) # keyword arguments"
   ]
  },
  {
   "cell_type": "code",
   "execution_count": 3,
   "id": "17d478f4",
   "metadata": {},
   "outputs": [
    {
     "name": "stdout",
     "output_type": "stream",
     "text": [
      "even\n"
     ]
    }
   ],
   "source": [
    "# 3. What is the purpose of the return statement in a function? Can a function have multiple return statements? \n",
    "# Explain with an example.\n",
    "'''\n",
    "purpose of return statement: \n",
    "1. to display output\n",
    "2. to generate output so as to call it whenever required\n",
    "3. to pass the data\n",
    "4. control the flow of function\n",
    "5. return statement terminates the execution of the function\n",
    "every function returns something. If there are no return statements, then it returns None.\n",
    "\n",
    "'''\n",
    "\n",
    "'''\n",
    "A function can have multiple return statements. When any of them is executed, the function terminates.\n",
    "functions can return multiple values in a single return statement in python\n",
    "'''\n",
    "\n",
    "\n",
    "def type_of_int(i):\n",
    "    if i % 2 == 0:\n",
    "        return 'even'\n",
    "    else:\n",
    "        return 'odd'\n",
    "result = type_of_int(12)\n",
    " \n",
    "print(result)\n",
    "\n",
    "\n",
    "\n"
   ]
  },
  {
   "cell_type": "code",
   "execution_count": 4,
   "id": "3af989a9",
   "metadata": {},
   "outputs": [
    {
     "name": "stdout",
     "output_type": "stream",
     "text": [
      "40\n",
      "[1, 4, 6, 6]\n"
     ]
    }
   ],
   "source": [
    "# 4. What are lambda functions in Python? How are they different from regular functions? Provide an example where a \n",
    "# lambda function can be useful.\n",
    "'''\n",
    "lambda functions are small,single-line funtions without name, anonymous functions.\n",
    "They can have any number of arguments but only one expression is evaluated and returned\n",
    "syntax : lambda arguments: expression\n",
    "They can be used wherever function objects are required, like inside functions like map(), filter(), and reduce()\n",
    "they can be used inside a function, in list comprehensions, in loops,etc\n",
    "only expression is allowed, loop statements are not allowed\n",
    "regular functions use def, return ; lambda function uses lambda, no return statement but the expression is evaluated by defalut\n",
    "\n",
    "'''\n",
    "x= lambda a, b, c : a + b + c\n",
    "print(x(12, 6, 22))\n",
    "\n",
    "\n",
    "y = [-1,-2,-3,-2,0,1,4,6,6,-4]\n",
    "print(list(filter(lambda i: i>0,y)))"
   ]
  },
  {
   "cell_type": "code",
   "execution_count": 5,
   "id": "3ed26bee",
   "metadata": {},
   "outputs": [
    {
     "name": "stdout",
     "output_type": "stream",
     "text": [
      "hello global scope\n"
     ]
    },
    {
     "ename": "NameError",
     "evalue": "name 'a' is not defined",
     "output_type": "error",
     "traceback": [
      "\u001b[1;31m---------------------------------------------------------------------------\u001b[0m",
      "\u001b[1;31mNameError\u001b[0m                                 Traceback (most recent call last)",
      "Cell \u001b[1;32mIn[5], line 27\u001b[0m\n\u001b[0;32m     25\u001b[0m     \u001b[38;5;28;01mreturn\u001b[39;00m c\n\u001b[0;32m     26\u001b[0m \u001b[38;5;66;03m#print(a) # global scope can not access any local scope variable a\u001b[39;00m\n\u001b[1;32m---> 27\u001b[0m \u001b[43madd_String\u001b[49m\u001b[43m(\u001b[49m\u001b[43m)\u001b[49m\n",
      "Cell \u001b[1;32mIn[5], line 23\u001b[0m, in \u001b[0;36madd_String\u001b[1;34m()\u001b[0m\n\u001b[0;32m     21\u001b[0m \u001b[38;5;28;01mdef\u001b[39;00m \u001b[38;5;21madd_String\u001b[39m():\n\u001b[0;32m     22\u001b[0m     b\u001b[38;5;241m=\u001b[39m \u001b[38;5;124m'\u001b[39m\u001b[38;5;124manother local scope\u001b[39m\u001b[38;5;124m'\u001b[39m\n\u001b[1;32m---> 23\u001b[0m     c \u001b[38;5;241m=\u001b[39m \u001b[43ma\u001b[49m \u001b[38;5;66;03m# another local scope variable cannot be accessed in this loccal scope \u001b[39;00m\n\u001b[0;32m     24\u001b[0m     \u001b[38;5;28mprint\u001b[39m(b) \n\u001b[0;32m     25\u001b[0m     \u001b[38;5;28;01mreturn\u001b[39;00m c\n",
      "\u001b[1;31mNameError\u001b[0m: name 'a' is not defined"
     ]
    }
   ],
   "source": [
    "# 5. How does the concept of \"scope\" apply to functions in Python? Explain the difference between local scope and global scope.\n",
    "'''\n",
    "Parameters and variables that are assigned in a called function are said to exist in that function’s local scope. \n",
    "Variables that are assigned outside all functions are said to exist in the global scope. A variable that exists in a local scope\n",
    "is called a local variable, while a variable that exists in the global scope is called a global variable. \n",
    "A variable must be one or the other; it cannot be both local and global.\n",
    "\n",
    "1. Code in the global scope, outside of all functions, cannot use any local variables.\n",
    "2. However, code in a local scope can access global variables.\n",
    "3. Code in a function’s local scope cannot use variables in any other local scope.\n",
    "4. You can use the same name for different variables if they are in different scopes. That is, there can be a local variable \n",
    "named x and a global variable also named x.\n",
    "\n",
    "'''\n",
    "\n",
    "x= 'hello global scope'\n",
    "def scope():\n",
    "    a= 'hello local scope'\n",
    "    print(x) #local scope can access global variable x\n",
    "scope()\n",
    "def add_String():\n",
    "    b= 'another local scope'\n",
    "    c = a # another local scope variable cannot be accessed in this loccal scope \n",
    "    print(b) \n",
    "    return c\n",
    "#print(a) # global scope can not access any local scope variable a\n",
    "add_String()"
   ]
  },
  {
   "cell_type": "code",
   "execution_count": 6,
   "id": "5ce694d4",
   "metadata": {},
   "outputs": [
    {
     "data": {
      "text/plain": [
       "{'square': 4, 'cube': 8, 'fourth power': 16}"
      ]
     },
     "execution_count": 6,
     "metadata": {},
     "output_type": "execute_result"
    }
   ],
   "source": [
    "# 6. How can you use the \"return\" statement in a Python function to return multiple values?\n",
    "\n",
    "def powers(a):\n",
    "    sq = a**2\n",
    "    cu = a**3\n",
    "    fo = a**4\n",
    "    return{'square':sq,'cube':cu,'fourth power':fo}\n",
    "    #return(sq,cu,fo) # you can also use this \n",
    "powers(2)"
   ]
  },
  {
   "cell_type": "code",
   "execution_count": 7,
   "id": "5c110cd1",
   "metadata": {},
   "outputs": [
    {
     "name": "stdout",
     "output_type": "stream",
     "text": [
      "in function {'maths': 99, 'science': 95, 'social': 97, 'english': 81, 'hindi': 85}\n",
      "out function {'maths': 99, 'science': 95, 'social': 97, 'english': 81, 'hindi': 85}\n",
      "in function {'english': 81, 'hindi': 85}\n",
      "out function {'maths': 99, 'science': 95, 'social': 97}\n"
     ]
    }
   ],
   "source": [
    "# 7.What is the difference between the \"pass by value\" and \"pass by reference\" concepts when it comes to function arguments \n",
    "# in Python\n",
    "\n",
    "\n",
    "'''\n",
    "pass by reference: values to the argument of the function are passed by reference which means that the address of the variable \n",
    "is passed and then the operation is done on the value stored at these addresses\n",
    "change in the varible also affects the value of the variable outside the function\n",
    "the original value of variable is modified by calling in the function\n",
    "\n",
    "\n",
    "pass by value: value is directly passed as the value to the argument of the function. Here, the operation is done on the value \n",
    "and then the value is stored at the address. Pass by value is used for a copy of the variable\n",
    "Changes made in a copy of a variable never modify the value of the variable outside the function\n",
    "the original value of the varible is not changed\n",
    "\n",
    "\n",
    "'''\n",
    "##### pass by reference example #############\n",
    "\n",
    "marks = {'maths':99,'science' :95,'social' : 97}\n",
    "def exam(marks):\n",
    "    marks_r = {'english': 81,'hindi': 85}\n",
    "    marks.update(marks_r)\n",
    "    print('in function',marks)\n",
    "    return\n",
    "exam(marks)\n",
    "print('out function', marks)\n",
    "\n",
    "\n",
    "####### pass by value #################\n",
    "\n",
    "marks = {'maths':99,'science' :95,'social' : 97}\n",
    "def exam(marks):\n",
    "    marks = {'english': 81,'hindi': 85}\n",
    "    print('in function',marks)\n",
    "    return\n",
    "exam(marks)\n",
    "print('out function', marks)"
   ]
  },
  {
   "cell_type": "code",
   "execution_count": 8,
   "id": "543a2eae",
   "metadata": {},
   "outputs": [
    {
     "name": "stdout",
     "output_type": "stream",
     "text": [
      "please give integer/ decimal value: 2.09\n"
     ]
    },
    {
     "data": {
      "text/plain": [
       "{'log x': 0.7371640659767196,\n",
       " 'exp x': 8.084915164305059,\n",
       " '2**x': 4.257480729813439,\n",
       " 'sqrt': 1.445683229480096}"
      ]
     },
     "execution_count": 8,
     "metadata": {},
     "output_type": "execute_result"
    }
   ],
   "source": [
    "# 8. Create a function that can intake integer or decimal value and do following operations:\n",
    "#a. Logarithmic function (log x)\n",
    "#b. Exponential function (exp(x))\n",
    "#c. Power function with base 2 (2^x)\n",
    "#d. Square root\n",
    "\n",
    "import math\n",
    "def func(x):\n",
    "    return {'log x': math.log(x),'exp x': math.exp(x),\n",
    "           '2**x': math.pow(2,x),'sqrt' : math.sqrt(x)}\n",
    "x = float(input('please give integer/ decimal value: '))\n",
    "func(x)\n",
    "#func(x)['log x']"
   ]
  },
  {
   "cell_type": "code",
   "execution_count": 11,
   "id": "b325bc41",
   "metadata": {},
   "outputs": [
    {
     "name": "stdout",
     "output_type": "stream",
     "text": [
      "please give the name:wag rhs tyhbrthb rhbre\n"
     ]
    },
    {
     "data": {
      "text/plain": [
       "{'first name': 'Wag', 'second name': 'Rhs tyhbrthb rhbre'}"
      ]
     },
     "execution_count": 11,
     "metadata": {},
     "output_type": "execute_result"
    }
   ],
   "source": [
    "# 9. Create a function that takes a full name as an argument and returns first name and last name.\n",
    "\n",
    "def name(full_name):\n",
    "    return {'first name' :full_name.split(\" \",1)[0].capitalize(),'second name' : full_name.split(\" \",1)[1].capitalize()}\n",
    "\n",
    "s = input('please give the name:')\n",
    "name(s)"
   ]
  },
  {
   "cell_type": "code",
   "execution_count": null,
   "id": "69eacc2d",
   "metadata": {},
   "outputs": [],
   "source": []
  }
 ],
 "metadata": {
  "kernelspec": {
   "display_name": "Python 3 (ipykernel)",
   "language": "python",
   "name": "python3"
  },
  "language_info": {
   "codemirror_mode": {
    "name": "ipython",
    "version": 3
   },
   "file_extension": ".py",
   "mimetype": "text/x-python",
   "name": "python",
   "nbconvert_exporter": "python",
   "pygments_lexer": "ipython3",
   "version": "3.10.9"
  }
 },
 "nbformat": 4,
 "nbformat_minor": 5
}
