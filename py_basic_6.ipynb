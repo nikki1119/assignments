{
 "cells": [
  {
   "cell_type": "code",
   "execution_count": 6,
   "id": "3c2056a8",
   "metadata": {},
   "outputs": [
    {
     "name": "stdout",
     "output_type": "stream",
     "text": [
      "['False', 'None', 'True', 'and', 'as', 'assert', 'async', 'await', 'break', 'class', 'continue', 'def', 'del', 'elif', 'else', 'except', 'finally', 'for', 'from', 'global', 'if', 'import', 'in', 'is', 'lambda', 'nonlocal', 'not', 'or', 'pass', 'raise', 'return', 'try', 'while', 'with', 'yield']\n"
     ]
    }
   ],
   "source": [
    "#Q.1. What are keywords in python? Using the keyword library, print all the python keywords.\n",
    "'''\n",
    "Keywords are reserved words used in Python programming and cannot be used as variable names, function names or any \n",
    "other identifiers. \n",
    "They are used to define the syntax and structure of the Python language. We need not import keywords in the program to use them\n",
    "They are case sensitive\n",
    "'''\n",
    "import keyword as kwl\n",
    "print(kwl.kwlist)"
   ]
  },
  {
   "cell_type": "code",
   "execution_count": 16,
   "id": "1657dce9",
   "metadata": {},
   "outputs": [
    {
     "data": {
      "text/plain": [
       "'\\nVariables are considered to be identifiers having a physical memory location, \\nwhich are used to hold values temporarily during the program execution.\\n\\nDynamic typing : variables don\\'t need to be declared before assigning a value as python interpreter can determine by itself what \\ntype of data is stored in the variable. \"=\" is used for assigning the value to a variable\\n\\n1. Python is a case-sensitive language so variable names are also case sensitive\\ne.g Var and var are 2 different names for a variable.\\n2. Reserved Keywords cannot be used as variable name e.g global is a keyword and hence it cannot be a variable name.\\n3. The variable names should always begin with either a alphabet or an underscore but not with special characters,digits\\ni.e alphanumerics(A-Z,a_z,0-9) and an \"-\"\\n4. Variable names cannot have any special character in it except underscore\\n5. As the sole purpose of assigning the values to variables is to reuse them in the code, it\\'s advisable to give a meaningful\\nname and preferbly not lengthy names.\\n\\n'"
      ]
     },
     "execution_count": 16,
     "metadata": {},
     "output_type": "execute_result"
    }
   ],
   "source": [
    "#Q.2. What are the rules to create variables in python?\n",
    "#Q.3. What are the standards and conventions followed for the nomenclature of variables in python to improve code readability \n",
    "#and maintainability?\n",
    "'''\n",
    "Variables are considered to be identifiers having a physical memory location, \n",
    "which are used to hold values temporarily during the program execution.\n",
    "\n",
    "Dynamic typing : variables don't need to be declared before assigning a value as python interpreter can determine by itself what \n",
    "type of data is stored in the variable. \"=\" is used for assigning the value to a variable\n",
    "\n",
    "1. Python is a case-sensitive language so variable names are also case sensitive\n",
    "e.g Var and var are 2 different names for a variable.\n",
    "2. Reserved Keywords cannot be used as variable name e.g global is a keyword and hence it cannot be a variable name.\n",
    "3. The variable names should always begin with either a alphabet or an underscore but not with special characters,digits\n",
    "i.e alphanumerics(A-Z,a_z,0-9) and an \"-\"\n",
    "4. Variable names cannot have any special character in it except underscore\n",
    "5. As the sole purpose of assigning the values to variables is to reuse them in the code, it's advisable to give a meaningful\n",
    "name and preferbly not lengthy names.\n",
    "\n",
    "'''"
   ]
  },
  {
   "cell_type": "code",
   "execution_count": 17,
   "id": "a84bf273",
   "metadata": {},
   "outputs": [
    {
     "ename": "SyntaxError",
     "evalue": "invalid syntax (3564532745.py, line 5)",
     "output_type": "error",
     "traceback": [
      "\u001b[1;36m  Cell \u001b[1;32mIn[17], line 5\u001b[1;36m\u001b[0m\n\u001b[1;33m    class = 0\u001b[0m\n\u001b[1;37m          ^\u001b[0m\n\u001b[1;31mSyntaxError\u001b[0m\u001b[1;31m:\u001b[0m invalid syntax\n"
     ]
    }
   ],
   "source": [
    "#Q.4. What will happen if a keyword is used as a variable name?\n",
    "'''\n",
    "keywords cannot be used as variable names,It will give a syntax error\n",
    "'''\n",
    "class = 0"
   ]
  },
  {
   "cell_type": "code",
   "execution_count": 24,
   "id": "bd950600",
   "metadata": {},
   "outputs": [
    {
     "name": "stdout",
     "output_type": "stream",
     "text": [
      " please give the value for temperature23\n"
     ]
    },
    {
     "data": {
      "text/plain": [
       "'lets go for a nice jog'"
      ]
     },
     "execution_count": 24,
     "metadata": {},
     "output_type": "execute_result"
    }
   ],
   "source": [
    "#Q.5. For what purpose def keyword is used?\n",
    "'''\n",
    "def is used to create a function\n",
    "\n",
    "'''\n",
    "\n",
    "def Summerfunction(temp):\n",
    "    if temp>38:\n",
    "        a = \"AAhh.Hate summer season\"\n",
    "    else :\n",
    "        a = \"lets go for a nice jog\"\n",
    "    return a\n",
    "    \n",
    "b = int(input(\" please give the value for temperature \"))      \n",
    "Summerfunction(b)"
   ]
  },
  {
   "cell_type": "code",
   "execution_count": 39,
   "id": "5bc127e6",
   "metadata": {},
   "outputs": [
    {
     "data": {
      "text/plain": [
       "23"
      ]
     },
     "execution_count": 39,
     "metadata": {},
     "output_type": "execute_result"
    }
   ],
   "source": [
    "#Q.6. What is the operation of this special character ‘\\’?\n",
    "\"\"\"\n",
    "A new line in code signifies signifies the end of statement/value in previous line of code. in case you want to extend the \n",
    "statement or value to next immediate line, special character \"\\\" is used.\n",
    "\n",
    "this way \"\\\" is used for wrinting multi line statements/values without using parenthess (),{},[]etc\n",
    "\"\"\"\n",
    "\n",
    "\n",
    "\n",
    "\"st\" +\\\n",
    "\"tring\"\n",
    "\n",
    "\n",
    "1+2+3+\\\n",
    "4+\\\n",
    "6+7"
   ]
  },
  {
   "cell_type": "code",
   "execution_count": 8,
   "id": "de2a2b6c",
   "metadata": {},
   "outputs": [
    {
     "data": {
      "text/plain": [
       "\"\\nHomogenous : same kind of values\\nHeterogenous : different types of values: integers, floats, strings, and even other Data Structures.\\nMutable: Lists,Dictionaries, Sets\\nImmutable: Sets\\nList :\\nA list is like array - the objects it stores are ordered sequentially in slots.\\nare mutable/dynamic - they can be changed at any time by adding, removing or changing objects.\\nHomogenous List : [1,2,3,5,6]['Alex', 'Bindu', 'Creta'][10.0, 20.0,30.0]\\n\\nTuple :\\nordered immutable collection of objects : cannot be changes after creation\\nHomogenous Tuple : (1,2,4) ('asia','africa','europe','America')\\n\\nDictionary : associates keys with values\\nunordered set of key/value pairs; can dynamically shrink/grow to any size\\nYou can add, modify, or delete key-value pairs from a dictionary.\\n\\nSet:\\nAn unordered set of unique objects ; avoids duplicates\\nHeterogeneous set : {12,'resting',13.9,(23,34),[1,2,5],{'name':'panda'}}\\nSets are also mutable\\n\""
      ]
     },
     "execution_count": 8,
     "metadata": {},
     "output_type": "execute_result"
    }
   ],
   "source": [
    "#Q.7. Give an example of the following conditions:\n",
    "#(i) Homogeneous list\n",
    "#(ii) Heterogeneous set\n",
    "#(iii) Homogeneous tuple\n",
    "#Q.8. Explain the mutable and immutable data types with proper explanation & examples.\n",
    "'''\n",
    "Homogenous : same kind of values\n",
    "Heterogenous : different types of values: integers, floats, strings, and even other Data Structures.\n",
    "Mutable: Lists,Dictionaries, Sets\n",
    "Immutable: Sets\n",
    "List :\n",
    "A list is like array - the objects it stores are ordered sequentially in slots.\n",
    "are mutable/dynamic - they can be changed at any time by adding, removing or changing objects.\n",
    "Homogenous List : [1,2,3,5,6]['Alex', 'Bindu', 'Creta'][10.0, 20.0,30.0]\n",
    "\n",
    "Tuple :\n",
    "ordered immutable collection of objects : cannot be changes after creation\n",
    "Homogenous Tuple : (1,2,4) ('asia','africa','europe','America')\n",
    "\n",
    "Dictionary : associates keys with values\n",
    "unordered set of key/value pairs; can dynamically shrink/grow to any size\n",
    "You can add, modify, or delete key-value pairs from a dictionary.\n",
    "\n",
    "Set:\n",
    "An unordered set of unique objects ; avoids duplicates\n",
    "Heterogeneous set : {12,'resting',13.9,(23,34),[1,2,5],{'name':'panda'}}\n",
    "Sets are also mutable\n",
    "'''\n"
   ]
  },
  {
   "cell_type": "code",
   "execution_count": 9,
   "id": "8741e910",
   "metadata": {},
   "outputs": [
    {
     "name": "stdout",
     "output_type": "stream",
     "text": [
      "{1, 2, 3, 4, 9}\n"
     ]
    }
   ],
   "source": [
    "s ={0,1,2,3,4}\n",
    "s.add(9)\n",
    "s.remove(0)\n",
    "print(s)"
   ]
  },
  {
   "cell_type": "code",
   "execution_count": 25,
   "id": "c76e6931",
   "metadata": {},
   "outputs": [
    {
     "data": {
      "text/plain": [
       "['a', 'e', 'b', 'Lists are mutable', 1, 2, 3]"
      ]
     },
     "execution_count": 25,
     "metadata": {},
     "output_type": "execute_result"
    }
   ],
   "source": [
    "a = [\"a\",\"c\",\"d\",\"e\"]\n",
    "a.append(\"b\") # adding a value \"b\" to the list\n",
    "a.remove(\"c\") # removing \"c\" from the list\n",
    "a.pop(1) # popping out the the value with index 1 from the list\n",
    "a.extend([1,2,3]) #Adding other elements to the list\n",
    "a.insert(3,\"Lists are mutable\") # replacing the element in the index 3 with the new element\n",
    "b = a.copy() # copying the list a to another list\n",
    "a"
   ]
  },
  {
   "cell_type": "code",
   "execution_count": 31,
   "id": "0dbff486",
   "metadata": {},
   "outputs": [
    {
     "ename": "AttributeError",
     "evalue": "'tuple' object has no attribute 'append'",
     "output_type": "error",
     "traceback": [
      "\u001b[1;31m---------------------------------------------------------------------------\u001b[0m",
      "\u001b[1;31mAttributeError\u001b[0m                            Traceback (most recent call last)",
      "Cell \u001b[1;32mIn[31], line 2\u001b[0m\n\u001b[0;32m      1\u001b[0m b \u001b[38;5;241m=\u001b[39m (\u001b[38;5;241m3\u001b[39m,\u001b[38;5;241m4\u001b[39m,\u001b[38;5;241m5\u001b[39m,\u001b[38;5;241m6\u001b[39m)\n\u001b[1;32m----> 2\u001b[0m \u001b[43mb\u001b[49m\u001b[38;5;241;43m.\u001b[39;49m\u001b[43mappend\u001b[49m(\u001b[38;5;241m2\u001b[39m)\n",
      "\u001b[1;31mAttributeError\u001b[0m: 'tuple' object has no attribute 'append'"
     ]
    }
   ],
   "source": [
    "b = (3,4,5,6)\n",
    "b.append(2)\n",
    "# Tuples can support only indexing and slicing  but not any other mutable operations"
   ]
  },
  {
   "cell_type": "code",
   "execution_count": 34,
   "id": "12211df1",
   "metadata": {},
   "outputs": [],
   "source": [
    "d = {\"1\":[1,2] ,\"2\":[3,4], \"3\":[5,6]}\n",
    "d[\"4\"] = [7,8] # adding a new key-value pair\n",
    "del d[\"1\"] # deleting the key \"1\" and its value "
   ]
  },
  {
   "cell_type": "code",
   "execution_count": 32,
   "id": "1640254f",
   "metadata": {},
   "outputs": [
    {
     "name": "stdout",
     "output_type": "stream",
     "text": [
      "*\n",
      "***\n",
      "*****\n",
      "*******\n",
      "*********\n"
     ]
    }
   ],
   "source": [
    "#Q.9. Write a code to create the given structure using only for loop.\n",
    "'''\n",
    "*\n",
    "***\n",
    "*****\n",
    "*******\n",
    "*********\n",
    "'''\n",
    "for i in range(1,10,2):\n",
    "    print(\"*\"*i)"
   ]
  },
  {
   "cell_type": "code",
   "execution_count": null,
   "id": "f4957b4f",
   "metadata": {},
   "outputs": [],
   "source": []
  },
  {
   "cell_type": "code",
   "execution_count": 15,
   "id": "5b53de29",
   "metadata": {},
   "outputs": [
    {
     "name": "stdout",
     "output_type": "stream",
     "text": [
      "|||||||||\n",
      "|||||||\n",
      "|||||\n",
      "|||\n",
      "|\n"
     ]
    }
   ],
   "source": [
    "#Q.10. Write a code to create the given structure using while loop.\n",
    "''' \n",
    "|||||||||\n",
    "|||||||\n",
    "|||||\n",
    "|||\n",
    "|\n",
    "\n",
    "'''\n",
    "i =9\n",
    "while i>=1:\n",
    "    print(\"|\"*i)\n",
    "    i-=2"
   ]
  },
  {
   "cell_type": "code",
   "execution_count": null,
   "id": "d5ece578",
   "metadata": {},
   "outputs": [],
   "source": []
  }
 ],
 "metadata": {
  "kernelspec": {
   "display_name": "Python 3 (ipykernel)",
   "language": "python",
   "name": "python3"
  },
  "language_info": {
   "codemirror_mode": {
    "name": "ipython",
    "version": 3
   },
   "file_extension": ".py",
   "mimetype": "text/x-python",
   "name": "python",
   "nbconvert_exporter": "python",
   "pygments_lexer": "ipython3",
   "version": "3.10.9"
  }
 },
 "nbformat": 4,
 "nbformat_minor": 5
}
