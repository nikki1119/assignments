{
 "cells": [
  {
   "cell_type": "code",
   "execution_count": 15,
   "id": "7ab6bcc6",
   "metadata": {},
   "outputs": [
    {
     "name": "stdout",
     "output_type": "stream",
     "text": [
      "10\n",
      "10\n",
      "[1, 4, 6, 6]\n"
     ]
    },
    {
     "data": {
      "text/plain": [
       "[1, 4, 6, 6]"
      ]
     },
     "execution_count": 15,
     "metadata": {},
     "output_type": "execute_result"
    }
   ],
   "source": [
    "# 1. What is a lambda function in Python, and how does it differ from a regular function?\n",
    "'''\n",
    "lambda functions are small,single-line funtions without name, anonymous functions.\n",
    "They can have any number of arguments but only one expression is evaluated and returned\n",
    "syntax : lambda arguments: expression\n",
    "They can be used wherever function objects are required, like inside functions like map(), filter(), and reduce()\n",
    "they can be used inside a function, in list comprehensions, in loops,etc\n",
    "only expression is allowed, loop statements are not allowed\n",
    "regular functions use def, return ; lambda function uses lambda, no return statement but the expression is evaluated by defalut\n",
    "\n",
    "'''\n",
    "\n",
    "def addition (a,b,c,d):\n",
    "    return a+b+c+d\n",
    "add = lambda a,b,c,d : a+b+c+d\n",
    "print(addition(1,2,3,4))\n",
    "print(add(1,2,3,4))\n",
    "\n",
    "\n",
    "###########\n",
    "y = [-1,-2,-3,-2,0,1,4,6,6,-4]\n",
    "print(list(filter(lambda i: i>0,y)))\n",
    "\n",
    "\n",
    "# or ##\n",
    "\n",
    "def pos(x):\n",
    "    return [i for i in x if i>0]\n",
    "Z = [-1,-2,-3,-2,0,1,4,6,6,-4]\n",
    "pos(Z)"
   ]
  },
  {
   "cell_type": "code",
   "execution_count": 17,
   "id": "803a4ed7",
   "metadata": {},
   "outputs": [
    {
     "data": {
      "text/plain": [
       "27"
      ]
     },
     "execution_count": 17,
     "metadata": {},
     "output_type": "execute_result"
    }
   ],
   "source": [
    "# 2. Can a lambda function in Python have multiple arguments? If yes, how can you define and use them?\n",
    "'''\n",
    "Lambda functions can take any number of arguments but can only have one expression.\n",
    "defined by using lambda.\n",
    "'''\n",
    "\n",
    "cube = lambda a,b : a**3 + b**3 + 3*a*b*(a+b)\n",
    "cube(1,2)"
   ]
  },
  {
   "cell_type": "code",
   "execution_count": 23,
   "id": "81c3d735",
   "metadata": {},
   "outputs": [
    {
     "name": "stdout",
     "output_type": "stream",
     "text": [
      "['appleorange', 'bananalemon', 'cherrypineapple']\n",
      "[1, 2, 6, 8, 9, 10]\n",
      "applebananacherry\n"
     ]
    }
   ],
   "source": [
    "# 3. How are lambda functions typically used in Python? Provide an example use case.\n",
    "'''\n",
    "lambda functions can be used wherever function objects are required, like inside functions like map(), filter(), and reduce()\n",
    "'''\n",
    "############  map #######\n",
    "print(list(map(lambda a,b: a+b, ('apple', 'banana', 'cherry'), ('orange', 'lemon', 'pineapple'))))\n",
    "######### filter ######\n",
    "print(list(filter(lambda i: i>0,[-1,-2,-3,-7,0,0,1,2,6,8,9,10])))\n",
    "############ reduce ###########\n",
    "import functools\n",
    "print(functools.reduce(lambda a,b:a+b,('apple', 'banana', 'cherry')))"
   ]
  },
  {
   "cell_type": "code",
   "execution_count": 26,
   "id": "bd13aaa2",
   "metadata": {},
   "outputs": [
    {
     "name": "stdout",
     "output_type": "stream",
     "text": [
      "applebananacherry\n",
      "applebananacherry\n"
     ]
    }
   ],
   "source": [
    "# 4. What are the advantages and limitations of lambda functions compared to regular functions in Python?\n",
    "'''\n",
    "Advantages:\n",
    "1. The operation you’re doing is trivial:the function doesn’t deserve a name;They can be easily passed without being assigned \n",
    "to a variable.\n",
    "2. Lambda functions are inline functions and thus execute comparatively faster.\n",
    "3. Sometimes we dont have a proper name for a function in mind then having a lambda expression makes your code more\n",
    "understandable than the function names we can think of\n",
    "4. lambda functions make code much more readable by avoiding the logical jumps caused by function calls\n",
    "\n",
    "\n",
    "Limitations:\n",
    "1. lambda functions lack a name or documentation, meaning reading their code is the only way to figure out what they do\n",
    "2. lambda functions can often be replaced with already existing functions in the standard library or built-in to Python :\n",
    "They are over-used and mis-used.\n",
    "3. Lambda functions can have only one expression.\n",
    "4. Lambda functions cannot have a docstring.\n",
    "\n",
    "'''\n",
    "print(functools.reduce(lambda a,b:a+b,['apple', 'banana', 'cherry']))\n",
    "print(\"\".join(['apple','banana','cherry'])) ## here lambda can be replaced"
   ]
  },
  {
   "cell_type": "code",
   "execution_count": 45,
   "id": "a8cb6bd1",
   "metadata": {},
   "outputs": [
    {
     "name": "stdout",
     "output_type": "stream",
     "text": [
      "16\n"
     ]
    },
    {
     "data": {
      "text/plain": [
       "5"
      ]
     },
     "execution_count": 45,
     "metadata": {},
     "output_type": "execute_result"
    }
   ],
   "source": [
    "# 5. Are lambda functions in Python able to access variables defined outside of their own scope? Explain with an example.\n",
    "'''\n",
    "lambda functions have their own local scope and cannot acccess variables other than thise in the parameters list and those in \n",
    "the global scope.\n",
    "\n",
    "'''\n",
    "a = 4 # here a is a global variable\n",
    "sq = lambda a: a**2 ##here a is a variable in lamda function local scope when executed a doesnot take value of global variable a\n",
    "print(sq(a))\n",
    "\n",
    "####\n",
    "\n",
    "a_fn = lambda a: 5 # this does not take the value of a from global variable; a is a local variable\n",
    "b =5\n",
    "c = 9\n",
    "a_fn(c) # c =9 when the function is called, it takes the return value as output value=5 defined in the lambda function "
   ]
  },
  {
   "cell_type": "code",
   "execution_count": 46,
   "id": "e400f954",
   "metadata": {},
   "outputs": [
    {
     "name": "stdout",
     "output_type": "stream",
     "text": [
      "please give a number to which square is to be calculated:2.3\n"
     ]
    },
    {
     "data": {
      "text/plain": [
       "5.289999999999999"
      ]
     },
     "execution_count": 46,
     "metadata": {},
     "output_type": "execute_result"
    }
   ],
   "source": [
    "# 6. Write a lambda function to calculate the square of a given number.\n",
    "sq = lambda a: a**2\n",
    "a = float(input('please give a number to which square is to be calculated:'))\n",
    "sq(a)"
   ]
  },
  {
   "cell_type": "code",
   "execution_count": 82,
   "id": "73c283e2",
   "metadata": {},
   "outputs": [
    {
     "name": "stdout",
     "output_type": "stream",
     "text": [
      "please give the elements of list separated by comma ',':1,2,4,5\n",
      "5\n"
     ]
    }
   ],
   "source": [
    "# 7. Create a lambda function to find the maximum value in a list of integers.\n",
    "\n",
    "max_value1 = lambda lst:max(list(map(int, lst)))\n",
    "y = input(\"please give the elements of list separated by comma ',':\").split(\",\")\n",
    "print(max_value1(y))"
   ]
  },
  {
   "cell_type": "code",
   "execution_count": 83,
   "id": "a0e2e9cd",
   "metadata": {},
   "outputs": [
    {
     "name": "stdout",
     "output_type": "stream",
     "text": [
      "please give the elements of list separated by comma ',':23,45,4645\n",
      "[]\n"
     ]
    }
   ],
   "source": [
    "# 8. Implement a lambda function to filter out all the even numbers from a list of integers.\n",
    "z = input(\"please give the elements of list separated by comma ',':\").split(\",\")\n",
    "even = list(filter(lambda l:l%2==0,list(map(int,z))))\n",
    "print(even)"
   ]
  },
  {
   "cell_type": "code",
   "execution_count": 81,
   "id": "a0d460ac",
   "metadata": {},
   "outputs": [
    {
     "name": "stdout",
     "output_type": "stream",
     "text": [
      "please give the elements of list separated by comma ',':wer,h,ht,ethdet\n"
     ]
    },
    {
     "data": {
      "text/plain": [
       "['h', 'ht', 'wer', 'ethdet']"
      ]
     },
     "execution_count": 81,
     "metadata": {},
     "output_type": "execute_result"
    }
   ],
   "source": [
    "# 9. Write a lambda function to sort a list of strings in ascending order based on the length of each string.\n",
    " \n",
    "asc_list = lambda lst : sorted(lst,key = len)\n",
    "l1 = input(\"please give the elements of list separated by comma ',':\").split(\",\")\n",
    "asc_list(l1)"
   ]
  },
  {
   "cell_type": "code",
   "execution_count": 86,
   "id": "491bd981",
   "metadata": {},
   "outputs": [
    {
     "name": "stdout",
     "output_type": "stream",
     "text": [
      "please give the elements of list separated by comma ',':1,2,3,45\n",
      "please give the elements of list separated by comma ',':2,3,5,6,7\n"
     ]
    },
    {
     "data": {
      "text/plain": [
       "['2', '3']"
      ]
     },
     "execution_count": 86,
     "metadata": {},
     "output_type": "execute_result"
    }
   ],
   "source": [
    "# 10.Create a lambda function that takes two lists as input and returns a new list containing common elements between two lists\n",
    "\n",
    "common = lambda l1,l2: [i for i in l1 if i in l2]\n",
    "\n",
    "\n",
    "lst1 = input(\"please give the elements of list separated by comma ',':\").split(\",\")\n",
    "lst2 = input(\"please give the elements of list separated by comma ',':\").split(\",\")\n",
    "\n",
    "common(lst1,lst2)"
   ]
  },
  {
   "cell_type": "code",
   "execution_count": 94,
   "id": "cf74de5c",
   "metadata": {},
   "outputs": [
    {
     "name": "stdout",
     "output_type": "stream",
     "text": [
      "please give a positive integer: 3\n"
     ]
    },
    {
     "data": {
      "text/plain": [
       "6"
      ]
     },
     "execution_count": 94,
     "metadata": {},
     "output_type": "execute_result"
    }
   ],
   "source": [
    "# 11. Write a recursive function to calculate the factorial of a given positive integer.\n",
    "\n",
    "def factorial(n):\n",
    "    if n==1:\n",
    "        return 1\n",
    "    else:\n",
    "        return n*factorial(n-1)\n",
    "\n",
    "n = int(input('please give a positive integer: '))   \n",
    "factorial(n)"
   ]
  },
  {
   "cell_type": "code",
   "execution_count": 116,
   "id": "2885ac11",
   "metadata": {},
   "outputs": [
    {
     "name": "stdout",
     "output_type": "stream",
     "text": [
      "please give a positive integer:3\n"
     ]
    },
    {
     "data": {
      "text/plain": [
       "1"
      ]
     },
     "execution_count": 116,
     "metadata": {},
     "output_type": "execute_result"
    }
   ],
   "source": [
    "# 12. Implement a recursive function to compute the nth Fibonacci number.\n",
    "\n",
    "def fibonacci(n):\n",
    "    if n<=0:\n",
    "        return 'give a positive number'\n",
    "    elif n==1:\n",
    "        return 0\n",
    "    elif n==2:\n",
    "        return 1\n",
    "    else:\n",
    "        return fibonacci(n-1)+fibonacci(n-2)\n",
    "        \n",
    "n = int(input('please give a positive integer:'))   \n",
    "        \n",
    "fibonacci(n)"
   ]
  },
  {
   "cell_type": "code",
   "execution_count": 120,
   "id": "f20493ca",
   "metadata": {},
   "outputs": [
    {
     "name": "stdout",
     "output_type": "stream",
     "text": [
      "please give the elements of list separated by comma ',':443,346\n"
     ]
    },
    {
     "data": {
      "text/plain": [
       "789"
      ]
     },
     "execution_count": 120,
     "metadata": {},
     "output_type": "execute_result"
    }
   ],
   "source": [
    "# 13. Create a recursive function to find the sum of all the elements in a given list.\n",
    "def sum_list(l):\n",
    "    if len(l)==0:\n",
    "        return 0\n",
    "    else:\n",
    "        return l[0]+sum_list(l[1:])\n",
    "    \n",
    "\n",
    "l1 = list(map(int,input(\"please give the elements of list separated by comma ',':\").split(\",\")))\n",
    "sum_list(l1)"
   ]
  },
  {
   "cell_type": "code",
   "execution_count": 124,
   "id": "211c5ddd",
   "metadata": {},
   "outputs": [
    {
     "name": "stdout",
     "output_type": "stream",
     "text": [
      "give a string: wewrger\n"
     ]
    },
    {
     "data": {
      "text/plain": [
       "False"
      ]
     },
     "execution_count": 124,
     "metadata": {},
     "output_type": "execute_result"
    }
   ],
   "source": [
    "# 14. Write a recursive function to determine whether a given string is a palindrome.\n",
    "def ispalindrome(s):\n",
    "    if len(s)==1:\n",
    "        return True\n",
    "    else:\n",
    "        if s[0]!=s[-1]:\n",
    "            return False\n",
    "        else:\n",
    "            return ispalindrome(s[1:-1])\n",
    "c = input('give a string: ')\n",
    "ispalindrome(c)"
   ]
  },
  {
   "cell_type": "code",
   "execution_count": 131,
   "id": "d69b84d3",
   "metadata": {},
   "outputs": [
    {
     "name": "stdout",
     "output_type": "stream",
     "text": [
      "Enter a value for first number: 1\n",
      "Enter a value for second number: 23\n"
     ]
    },
    {
     "data": {
      "text/plain": [
       "1"
      ]
     },
     "execution_count": 131,
     "metadata": {},
     "output_type": "execute_result"
    }
   ],
   "source": [
    "# 15. Implement a recursive function to find the greatest common divisor (GCD) of two positive integers.\n",
    "def gcd(x , y):\n",
    "    if y == 0:\n",
    "        return x\n",
    "    else:\n",
    "        return gcd(y, x % y)\n",
    "gcd(int(input('Enter a value for first number: ')),int(input('Enter a value for second number: ')))"
   ]
  },
  {
   "cell_type": "code",
   "execution_count": null,
   "id": "33e02844",
   "metadata": {},
   "outputs": [],
   "source": []
  },
  {
   "cell_type": "code",
   "execution_count": null,
   "id": "095db796",
   "metadata": {},
   "outputs": [],
   "source": []
  },
  {
   "cell_type": "code",
   "execution_count": null,
   "id": "f04f76b7",
   "metadata": {},
   "outputs": [],
   "source": []
  }
 ],
 "metadata": {
  "kernelspec": {
   "display_name": "Python 3 (ipykernel)",
   "language": "python",
   "name": "python3"
  },
  "language_info": {
   "codemirror_mode": {
    "name": "ipython",
    "version": 3
   },
   "file_extension": ".py",
   "mimetype": "text/x-python",
   "name": "python",
   "nbconvert_exporter": "python",
   "pygments_lexer": "ipython3",
   "version": "3.10.9"
  }
 },
 "nbformat": 4,
 "nbformat_minor": 5
}
