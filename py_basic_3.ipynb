{
 "cells": [
  {
   "cell_type": "code",
   "execution_count": 14,
   "id": "a21e3830",
   "metadata": {},
   "outputs": [
    {
     "data": {
      "text/plain": [
       "'\\nA function is a miniprogram inside a program\\nused for deduplicating the program which helps make programs shorter,easy to read, easy to update thus helping in reducing bugs\\n'"
      ]
     },
     "execution_count": 14,
     "metadata": {},
     "output_type": "execute_result"
    }
   ],
   "source": [
    "# 1. Why are functions advantageous to have in your programs?\n",
    "\n",
    "'''\n",
    "A function is a miniprogram inside a program\n",
    "used for deduplicating the program which helps make programs shorter,easy to read, easy to update thus helping in reducing bugs\n",
    "'''"
   ]
  },
  {
   "cell_type": "code",
   "execution_count": 15,
   "id": "3cf56d46",
   "metadata": {},
   "outputs": [
    {
     "data": {
      "text/plain": [
       "'\\nThe code in the function is executed/run when the function is called not when its specified\\n'"
      ]
     },
     "execution_count": 15,
     "metadata": {},
     "output_type": "execute_result"
    }
   ],
   "source": [
    "# 2. When does the code in a function run: when it's specified or when it's called?\n",
    "'''\n",
    "The code in the function is executed/run when the function is called not when its specified\n",
    "'''"
   ]
  },
  {
   "cell_type": "code",
   "execution_count": 16,
   "id": "6f309dda",
   "metadata": {},
   "outputs": [
    {
     "data": {
      "text/plain": [
       "'\\ndef statement creates a function\\ninside the statement, the body of function \\n'"
      ]
     },
     "execution_count": 16,
     "metadata": {},
     "output_type": "execute_result"
    }
   ],
   "source": [
    "# 3. What statement creates a function?\n",
    "'''\n",
    "def statement creates a function\n",
    "inside the statement, the body of function \n",
    "'''"
   ]
  },
  {
   "cell_type": "code",
   "execution_count": 17,
   "id": "aeb36db3",
   "metadata": {},
   "outputs": [
    {
     "name": "stdout",
     "output_type": "stream",
     "text": [
      "give the temperature in your area\n"
     ]
    },
    {
     "ename": "ValueError",
     "evalue": "invalid literal for int() with base 10: ''",
     "output_type": "error",
     "traceback": [
      "\u001b[1;31m---------------------------------------------------------------------------\u001b[0m",
      "\u001b[1;31mValueError\u001b[0m                                Traceback (most recent call last)",
      "Cell \u001b[1;32mIn[17], line 15\u001b[0m\n\u001b[0;32m     12\u001b[0m         \u001b[38;5;28mprint\u001b[39m(\u001b[38;5;124m'\u001b[39m\u001b[38;5;124mAC not required! please wear cotton clothes\u001b[39m\u001b[38;5;124m'\u001b[39m)\n\u001b[0;32m     14\u001b[0m \u001b[38;5;66;03m##################################################################\u001b[39;00m\n\u001b[1;32m---> 15\u001b[0m n \u001b[38;5;241m=\u001b[39m \u001b[38;5;28;43mint\u001b[39;49m\u001b[43m(\u001b[49m\u001b[38;5;28;43minput\u001b[39;49m\u001b[43m(\u001b[49m\u001b[38;5;124;43m'\u001b[39;49m\u001b[38;5;124;43mgive the temperature in your area\u001b[39;49m\u001b[38;5;124;43m'\u001b[39;49m\u001b[43m)\u001b[49m\u001b[43m)\u001b[49m\n\u001b[0;32m     16\u001b[0m ac(n)\n",
      "\u001b[1;31mValueError\u001b[0m: invalid literal for int() with base 10: ''"
     ]
    }
   ],
   "source": [
    "# 4. What is the difference between a function and a function call?\n",
    "'''\n",
    "function is when def statement creates the function\n",
    "when the function is called for usage in the code, it ts function call\n",
    "\n",
    "'''\n",
    "############ THIS BLOCK IS DEFINING FUNCTION #####################\n",
    "def ac(n):\n",
    "    if n>38:\n",
    "        print('please switch on AC and keep it at 26')\n",
    "    else:\n",
    "        print('AC not required! please wear cotton clothes')\n",
    "        \n",
    "##################################################################\n",
    "n = int(input('give the temperature in your area'))\n",
    "ac(n)  #### CALLING FUNCTION"
   ]
  },
  {
   "cell_type": "code",
   "execution_count": 18,
   "id": "b3ada3f8",
   "metadata": {},
   "outputs": [
    {
     "data": {
      "text/plain": [
       "'\\nThere is only one global scope, and it is created when your program begins. When your program terminates, the global scope \\nis destroyed, and all its variables are forgotten. Otherwise, the next time you ran a program, the variables would\\nremember their values from the last time you ran it\\n\\nLocal scope is created when a function is called,Any variables assigned in the function exist within the function’s local scope\\nthe number of local scopes ddepends upon the number of function used in that program\\n'"
      ]
     },
     "execution_count": 18,
     "metadata": {},
     "output_type": "execute_result"
    }
   ],
   "source": [
    "# 5. How many global scopes are there in a Python program? How many local scopes?\n",
    "'''\n",
    "There is only one global scope, and it is created when your program begins. When your program terminates, the global scope \n",
    "is destroyed, and all its variables are forgotten. Otherwise, the next time you ran a program, the variables would\n",
    "remember their values from the last time you ran it\n",
    "\n",
    "Local scope is created when a function is called,Any variables assigned in the function exist within the function’s local scope\n",
    "the number of local scopes ddepends upon the number of function used in that program\n",
    "'''"
   ]
  },
  {
   "cell_type": "code",
   "execution_count": 19,
   "id": "c893b513",
   "metadata": {},
   "outputs": [
    {
     "data": {
      "text/plain": [
       "'\\nWhen the function returns, the local scope is destroyed, and these variables are forgotten. The next time you call the function,\\nthe local variables will not remember the values stored in them from the last time the function was called.\\n\\n'"
      ]
     },
     "execution_count": 19,
     "metadata": {},
     "output_type": "execute_result"
    }
   ],
   "source": [
    "# 6. What happens to variables in a local scope when the function call returns?\n",
    "'''\n",
    "When the function returns, the local scope is destroyed, and these variables are forgotten. The next time you call the function,\n",
    "the local variables will not remember the values stored in them from the last time the function was called.\n",
    "\n",
    "'''"
   ]
  },
  {
   "cell_type": "code",
   "execution_count": 20,
   "id": "9809aef8",
   "metadata": {},
   "outputs": [
    {
     "data": {
      "text/plain": [
       "'\\nThe value or expression that the function should return is called the return value of the function.expressions are composed of \\nvalues and operators and function call can evaluate the expression\\n\\n'"
      ]
     },
     "execution_count": 20,
     "metadata": {},
     "output_type": "execute_result"
    }
   ],
   "source": [
    "# 7. What is the concept of a return value? Is it possible to have a return value in an expression?\n",
    "'''\n",
    "The value or expression that the function should return is called the return value of the function.expressions are composed of \n",
    "values and operators and function call can evaluate the expression\n",
    "\n",
    "'''"
   ]
  },
  {
   "cell_type": "code",
   "execution_count": 21,
   "id": "4caa6c8c",
   "metadata": {},
   "outputs": [
    {
     "data": {
      "text/plain": [
       "'\\nIf a function do not have a return statement, it returns None as value of the call to tht function\\n\\n'"
      ]
     },
     "execution_count": 21,
     "metadata": {},
     "output_type": "execute_result"
    }
   ],
   "source": [
    "# 8. If a function does not have a return statement, what is the return value of a call to that function?\n",
    "'''\n",
    "If a function do not have a return statement, it returns None as value of the call to tht function\n",
    "\n",
    "'''"
   ]
  },
  {
   "cell_type": "code",
   "execution_count": 22,
   "id": "c73bc15f",
   "metadata": {},
   "outputs": [
    {
     "name": "stdout",
     "output_type": "stream",
     "text": [
      "12\n",
      "12\n"
     ]
    }
   ],
   "source": [
    "# 9. How do you make a function variable refer to the global variable?\n",
    "\n",
    "'''\n",
    "Suppose there is no parameter in the function that assigns a value to the return object,then it is considered a reference to the\n",
    "global variable\n",
    "\n",
    "'''\n",
    "\n",
    "def no_par():\n",
    "    print(n)\n",
    "    \n",
    "no_par() # it is same as print('n')\n",
    "n = 12\n",
    "print(n)"
   ]
  },
  {
   "cell_type": "code",
   "execution_count": 23,
   "id": "85dd2a5d",
   "metadata": {},
   "outputs": [
    {
     "data": {
      "text/plain": [
       "NoneType"
      ]
     },
     "execution_count": 23,
     "metadata": {},
     "output_type": "execute_result"
    }
   ],
   "source": [
    "# 10. What is the data type of None?\n",
    "'''\n",
    "None represents the absence of a value. The None value is the only value of the NoneType data type.(equivalent to null, nil,\n",
    "or undefined.) \n",
    "This value-without-a-value can be helpful when you need to store something that won’t be confused for a real value in a variable\n",
    "\n",
    "'''\n",
    "type(None)"
   ]
  },
  {
   "cell_type": "code",
   "execution_count": 24,
   "id": "5d69a89d",
   "metadata": {},
   "outputs": [
    {
     "ename": "ModuleNotFoundError",
     "evalue": "No module named 'areallyourpetsnamederic'",
     "output_type": "error",
     "traceback": [
      "\u001b[1;31m---------------------------------------------------------------------------\u001b[0m",
      "\u001b[1;31mModuleNotFoundError\u001b[0m                       Traceback (most recent call last)",
      "Cell \u001b[1;32mIn[24], line 2\u001b[0m\n\u001b[0;32m      1\u001b[0m \u001b[38;5;66;03m# 11. What does the sentence import areallyourpetsnamederic do?\u001b[39;00m\n\u001b[1;32m----> 2\u001b[0m \u001b[38;5;28;01mimport\u001b[39;00m \u001b[38;5;21;01mareallyourpetsnamederic\u001b[39;00m\n",
      "\u001b[1;31mModuleNotFoundError\u001b[0m: No module named 'areallyourpetsnamederic'"
     ]
    }
   ],
   "source": [
    "# 11. What does the sentence import areallyourpetsnamederic do?\n",
    "import areallyourpetsnamederic # the function is not defined previously"
   ]
  },
  {
   "cell_type": "code",
   "execution_count": 25,
   "id": "3f13981a",
   "metadata": {},
   "outputs": [
    {
     "ename": "ModuleNotFoundError",
     "evalue": "No module named 'spam'",
     "output_type": "error",
     "traceback": [
      "\u001b[1;31m---------------------------------------------------------------------------\u001b[0m",
      "\u001b[1;31mModuleNotFoundError\u001b[0m                       Traceback (most recent call last)",
      "Cell \u001b[1;32mIn[25], line 2\u001b[0m\n\u001b[0;32m      1\u001b[0m \u001b[38;5;66;03m# 12. If you had a bacon() feature in a spam module, what would you call it after importing spam?\u001b[39;00m\n\u001b[1;32m----> 2\u001b[0m \u001b[38;5;28;01mimport\u001b[39;00m \u001b[38;5;21;01mspam\u001b[39;00m\n\u001b[0;32m      3\u001b[0m spam\u001b[38;5;241m.\u001b[39mbacon()\n",
      "\u001b[1;31mModuleNotFoundError\u001b[0m: No module named 'spam'"
     ]
    }
   ],
   "source": [
    "# 12. If you had a bacon() feature in a spam module, what would you call it after importing spam?\n",
    "import spam\n",
    "spam.bacon()"
   ]
  },
  {
   "cell_type": "code",
   "execution_count": 26,
   "id": "7fa6c4a0",
   "metadata": {},
   "outputs": [
    {
     "data": {
      "text/plain": [
       "'\\nby using try and except statements; the code that could potentially have an error is put in the try block;\\nif the code in try block actually encounters an error, except block has to be about how to handle the error\\n\\n'"
      ]
     },
     "execution_count": 26,
     "metadata": {},
     "output_type": "execute_result"
    }
   ],
   "source": [
    "# 13. What can you do to save a programme from crashing if it encounters an error?\n",
    "'''\n",
    "by using try and except statements; the code that could potentially have an error is put in the try block;\n",
    "if the code in try block actually encounters an error, except block has to be about how to handle the error\n",
    "\n",
    "'''"
   ]
  },
  {
   "cell_type": "code",
   "execution_count": 27,
   "id": "90e32e79",
   "metadata": {},
   "outputs": [
    {
     "data": {
      "text/plain": [
       "'\\nWhen code in try clause causes error while executing, then immediately except clause is run and returns to the beginning of the \\ntry block instead of break the code running.\\n\\n'"
      ]
     },
     "execution_count": 27,
     "metadata": {},
     "output_type": "execute_result"
    }
   ],
   "source": [
    "# 14. What is the purpose of the try clause? What is the purpose of the except clause?\n",
    "'''\n",
    "When code in try clause causes error while executing, then immediately except clause is run and returns to the beginning of the \n",
    "try block instead of break the code running.\n",
    "\n",
    "'''"
   ]
  },
  {
   "cell_type": "code",
   "execution_count": null,
   "id": "f232ebe4",
   "metadata": {},
   "outputs": [],
   "source": []
  }
 ],
 "metadata": {
  "kernelspec": {
   "display_name": "Python 3 (ipykernel)",
   "language": "python",
   "name": "python3"
  },
  "language_info": {
   "codemirror_mode": {
    "name": "ipython",
    "version": 3
   },
   "file_extension": ".py",
   "mimetype": "text/x-python",
   "name": "python",
   "nbconvert_exporter": "python",
   "pygments_lexer": "ipython3",
   "version": "3.10.9"
  }
 },
 "nbformat": 4,
 "nbformat_minor": 5
}
