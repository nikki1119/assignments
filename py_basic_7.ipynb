{
 "cells": [
  {
   "cell_type": "code",
   "execution_count": 1,
   "id": "c50c4440",
   "metadata": {},
   "outputs": [
    {
     "name": "stdout",
     "output_type": "stream",
     "text": [
      "please give first variable: 12\n",
      "please give second variable: 2\n",
      "First Variable is 12 & second variable is 2.\n",
      "Addition: 12 + 2 = 14\n",
      "Subtraction: 12 - 2 = 10\n",
      "Multiplication: 12 * 2 = 24\n",
      "Division: 12 / 2 = 6.0\n"
     ]
    }
   ],
   "source": [
    "'''\n",
    "Q.1. Create two int type variables, apply addition, subtraction, division and multiplications\n",
    "and store the results in variables. Then print the data in the following format by calling the\n",
    "variables:\n",
    "First variable is __ & second variable is __.\n",
    "Addition: __ + __ = __\n",
    "Subtraction: __ - __ = __\n",
    "Multiplication: __ * __ = __\n",
    "Division: __ / __ = __\n",
    "'''\n",
    "\n",
    "a = int(input('please give first variable: '))\n",
    "b = int(input('please give second variable: '))\n",
    "add = a+b\n",
    "sub = a-b\n",
    "mul = a*b\n",
    "div = a/b\n",
    "print(f'First Variable is {a} & second variable is {b}.\\n\\\n",
    "Addition: {a} + {b} = {add}\\n\\\n",
    "Subtraction: {a} - {b} = {sub}\\nMultiplication: {a} * {b} = {mul}\\nDivision: {a} / {b} = {div}')\n"
   ]
  },
  {
   "cell_type": "code",
   "execution_count": 2,
   "id": "5ada6d7a",
   "metadata": {},
   "outputs": [
    {
     "name": "stdout",
     "output_type": "stream",
     "text": [
      "1.5\n",
      "9\n",
      "1\n"
     ]
    },
    {
     "data": {
      "text/plain": [
       "('0b11', '0b10')"
      ]
     },
     "execution_count": 2,
     "metadata": {},
     "output_type": "execute_result"
    }
   ],
   "source": [
    "'''Q.2. What is the difference between the following operators:\n",
    "(i) ‘/’ & ‘//’\n",
    "(ii) ‘**’ & ‘^’\n",
    "'''\n",
    "\n",
    "print(3/2) # Division: result in float\n",
    "type(3//2) # floor Division : result in int type ; integer value in division\n",
    "\n",
    "print(3**2 )# exponent ; 3 raised to the power 2\n",
    "print(3^2) # bit-wise XOR in python : Compares each bit of the first operand with the corresponding bit of the second operand. If one of the bits is 1 (but not both), the corresponding result bit is set to 1. Otherwise, the result bit is set to 0.\n",
    "bin(3),bin(2)"
   ]
  },
  {
   "cell_type": "code",
   "execution_count": 3,
   "id": "f2df4f68",
   "metadata": {},
   "outputs": [
    {
     "data": {
      "text/plain": [
       "True"
      ]
     },
     "execution_count": 3,
     "metadata": {},
     "output_type": "execute_result"
    }
   ],
   "source": [
    "#Q.3. List the logical operators.\n",
    "'''\n",
    "Logical operators always return True or False as output. three boolean operators 'and','or' ,'not' used to compare conditional \n",
    "statements \n",
    "logical AND\n",
    "logical OR\n",
    "logical Not\n",
    "'''\n",
    "(3>5) or (9>7)"
   ]
  },
  {
   "cell_type": "code",
   "execution_count": 4,
   "id": "5c952a8a",
   "metadata": {},
   "outputs": [
    {
     "name": "stdout",
     "output_type": "stream",
     "text": [
      "3\n",
      "60\n"
     ]
    }
   ],
   "source": [
    "#Q.4. Explain right shift operator and left shift operator with examples.\n",
    "'''\n",
    " >> right shift operator : Left hand side integer is converted to binary and then the bits are moved to right side by the \n",
    " right hand side number and 0 s are filled where the bits are moved, each shift to right is number divided by 2\n",
    " << Left shift operator:  Shifts the bits of the number to the left by the number of bits specified. \n",
    " Each shift to the left corresponds to multiplying the number by 2\n",
    " '''\n",
    "12>>3 #1100 is moved to the right by 3 bits, it is 0001 = 1 in decimal system\n",
    "\n",
    "print(15>>2)\n",
    "bin(15)\n",
    "print(15<<2)"
   ]
  },
  {
   "cell_type": "code",
   "execution_count": 5,
   "id": "03aa6ff2",
   "metadata": {},
   "outputs": [
    {
     "name": "stdout",
     "output_type": "stream",
     "text": [
      "[3, -2, -29, -20, -12, 12, 16, -6, -21, -8, -20, 2, 26, 4]\n",
      "10 not in list\n"
     ]
    }
   ],
   "source": [
    "#Q.5. Create a list containing int type data of length 15. Then write a code to check if 10 is present in the list or not.\n",
    "import random\n",
    "l = []\n",
    "l = [random.randint(-30,30) for i in range(0,14)]\n",
    "print(l)\n",
    "if 10 in l: print('10 is present in list')\n",
    "else: print('10 not in list')"
   ]
  },
  {
   "cell_type": "code",
   "execution_count": 36,
   "id": "69792e40",
   "metadata": {},
   "outputs": [
    {
     "data": {
      "text/plain": [
       "[23, 3, -15, -22, 10, -1, -11, 8, -4, -30, 5, 19, 20, -20]"
      ]
     },
     "execution_count": 36,
     "metadata": {},
     "output_type": "execute_result"
    }
   ],
   "source": []
  },
  {
   "cell_type": "code",
   "execution_count": null,
   "id": "83aad942",
   "metadata": {},
   "outputs": [],
   "source": []
  }
 ],
 "metadata": {
  "kernelspec": {
   "display_name": "Python 3 (ipykernel)",
   "language": "python",
   "name": "python3"
  },
  "language_info": {
   "codemirror_mode": {
    "name": "ipython",
    "version": 3
   },
   "file_extension": ".py",
   "mimetype": "text/x-python",
   "name": "python",
   "nbconvert_exporter": "python",
   "pygments_lexer": "ipython3",
   "version": "3.10.9"
  }
 },
 "nbformat": 4,
 "nbformat_minor": 5
}
