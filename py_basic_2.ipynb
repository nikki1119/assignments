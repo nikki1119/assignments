{
 "cells": [
  {
   "cell_type": "code",
   "execution_count": 1,
   "id": "471cd0f1",
   "metadata": {},
   "outputs": [],
   "source": [
    "import keyword as kw"
   ]
  },
  {
   "cell_type": "code",
   "execution_count": 2,
   "id": "6be935e9",
   "metadata": {},
   "outputs": [
    {
     "data": {
      "text/plain": [
       "['False',\n",
       " 'None',\n",
       " 'True',\n",
       " 'and',\n",
       " 'as',\n",
       " 'assert',\n",
       " 'async',\n",
       " 'await',\n",
       " 'break',\n",
       " 'class',\n",
       " 'continue',\n",
       " 'def',\n",
       " 'del',\n",
       " 'elif',\n",
       " 'else',\n",
       " 'except',\n",
       " 'finally',\n",
       " 'for',\n",
       " 'from',\n",
       " 'global',\n",
       " 'if',\n",
       " 'import',\n",
       " 'in',\n",
       " 'is',\n",
       " 'lambda',\n",
       " 'nonlocal',\n",
       " 'not',\n",
       " 'or',\n",
       " 'pass',\n",
       " 'raise',\n",
       " 'return',\n",
       " 'try',\n",
       " 'while',\n",
       " 'with',\n",
       " 'yield']"
      ]
     },
     "execution_count": 2,
     "metadata": {},
     "output_type": "execute_result"
    }
   ],
   "source": [
    "kw.kwlist"
   ]
  },
  {
   "cell_type": "code",
   "execution_count": 3,
   "id": "bab6629e",
   "metadata": {},
   "outputs": [
    {
     "name": "stdout",
     "output_type": "stream",
     "text": [
      "<class 'bool'> <class 'bool'>\n"
     ]
    }
   ],
   "source": [
    "#1.What are the two values of the Boolean data type? How do you write them?\n",
    "\n",
    "'''\n",
    "2 values of Boolean data type : \n",
    "1. True\n",
    "2. False\n",
    "you can also see them in the keyword list\n",
    "Also the word bool is not a keyword in Python. \n",
    "This means that you can assign a variable with the name bool. However it is not a good practice to do so.\n",
    "Any value is evaluated to True if it has some sort of content.\n",
    "Any string is True, except empty strings.\n",
    "Any number is True, except 0.\n",
    "Any list, tuple, set, and dictionary are True, except empty ones.\n",
    "In fact, there are not many values that evaluate to False, except empty values, such as (), [], {}, \"\", the number 0, and the value None.\n",
    "And of course the value False evaluates to False\n",
    "'''\n",
    "\n",
    "print(type(True),type(False))"
   ]
  },
  {
   "cell_type": "code",
   "execution_count": 4,
   "id": "a1a80919",
   "metadata": {},
   "outputs": [
    {
     "data": {
      "text/plain": [
       "'\\nBoolean Operations are simple arithmetic of True and False values. \\nThese values can be manipulated by the use of boolean operators which include AND, Or, and NOT\\n\\n'"
      ]
     },
     "execution_count": 4,
     "metadata": {},
     "output_type": "execute_result"
    }
   ],
   "source": [
    "#2. What are the three different types of Boolean operators?\n",
    "'''\n",
    "Boolean Operations are simple arithmetic of True and False values. \n",
    "These values can be manipulated by the use of boolean operators which include AND, Or, and NOT\n",
    "\n",
    "'''\n",
    "\n"
   ]
  },
  {
   "cell_type": "code",
   "execution_count": 5,
   "id": "9e3abe15",
   "metadata": {},
   "outputs": [
    {
     "name": "stdout",
     "output_type": "stream",
     "text": [
      "True\n",
      "False\n",
      "False\n",
      "False\n",
      "True\n",
      "True\n",
      "True\n",
      "False\n",
      "False\n",
      "True\n"
     ]
    }
   ],
   "source": [
    "#3. Make a list of each Boolean operator's truth tables (i.e. every possible combination of Boolean values for\n",
    "# the operator and what it evaluate ).\n",
    "'''\n",
    "The Boolean or operator returns True if any one of the inputs is True else returns False.\n",
    "The Boolean and operator returns False if any one of the inputs is False else returns True.\n",
    "The Boolean Not operator only require one argument and returns the negation of the argument i.e.\n",
    "returns the True for False and False for True.\n",
    "\n",
    "\n",
    "'''\n",
    "T = True\n",
    "F = False\n",
    "\n",
    "# AND operator\n",
    "print(T and T)\n",
    "print(T and F)\n",
    "print(F and T)\n",
    "print(F and F)\n",
    "\n",
    "# OR operator\n",
    "print(T or T)\n",
    "print(T or F)\n",
    "print(F or T)\n",
    "print(F or F)\n",
    "\n",
    "# NOT operator\n",
    "print(not T)\n",
    "print(not F)\n"
   ]
  },
  {
   "cell_type": "code",
   "execution_count": 6,
   "id": "d30d1a5d",
   "metadata": {},
   "outputs": [
    {
     "name": "stdout",
     "output_type": "stream",
     "text": [
      "False\n",
      "False\n",
      "True\n",
      "False\n",
      "False\n",
      "True\n"
     ]
    }
   ],
   "source": [
    "#4. What are the values of the following expressions?\n",
    "print((5 > 4) and (3 == 5))# True and False\n",
    "print(not (5 > 4))# !True\n",
    "print((5 > 4) or (3 == 5))# True or False\n",
    "print(not ((5 > 4) or (3 == 5)))# !(True or False)\n",
    "print((True and True) and (True == False))#(True and False)\n",
    "print((not False) or (not True))# !False and !True"
   ]
  },
  {
   "cell_type": "code",
   "execution_count": 7,
   "id": "01c84f35",
   "metadata": {},
   "outputs": [
    {
     "data": {
      "text/plain": [
       "(False, True, True, False, False, True)"
      ]
     },
     "execution_count": 7,
     "metadata": {},
     "output_type": "execute_result"
    }
   ],
   "source": [
    "#5. What are the six comparison operators?\n",
    "'''\n",
    " comparison operators compare two values and return a boolean value, either True or False\n",
    "Less than ( < )\n",
    "Less than or equal to (<=)\n",
    "Greater than (>)\n",
    "Greater than or equal to (>=)\n",
    "Equal to ( == )\n",
    "Not equal to ( !=)\n",
    "used to compare both numbers and strings.\n",
    "'''\n",
    "2<1,2<=13,5>4,34>=56, 6==8,6!=5"
   ]
  },
  {
   "cell_type": "code",
   "execution_count": 8,
   "id": "639ca19e",
   "metadata": {},
   "outputs": [
    {
     "data": {
      "text/plain": [
       "'\\nThe “=” is an assignment operator used to assign the value on the right to the variable on the left. Assignment operator\\n\\n\\n\\nThe ‘==’ operator checks whether the two given operands are equal or not. If so, it returns true. Otherwise it returns false. \\ncomparision operator\\n'"
      ]
     },
     "execution_count": 8,
     "metadata": {},
     "output_type": "execute_result"
    }
   ],
   "source": [
    "#6. How do you tell the difference between the equal to and assignment operators?Describe a condition and when you would use one\n",
    "'''\n",
    "The “=” is an assignment operator used to assign the value on the right to the variable on the left. Assignment operator\n",
    "\n",
    "\n",
    "\n",
    "The ‘==’ operator checks whether the two given operands are equal or not. If so, it returns true. Otherwise it returns false. \n",
    "comparision operator\n",
    "'''"
   ]
  },
  {
   "cell_type": "code",
   "execution_count": 9,
   "id": "e0d3e2c6",
   "metadata": {},
   "outputs": [
    {
     "name": "stdout",
     "output_type": "stream",
     "text": [
      "ham\n",
      "spam\n",
      "spam\n"
     ]
    }
   ],
   "source": [
    "#7. Identify the three blocks in this code:\n",
    "spam = 0\n",
    "if spam == 10:\n",
    "    print(\"eggs\")# indentation 1\n",
    "if spam > 5:\n",
    "    print(\"bacon\") # indentation 2\n",
    "    \n",
    "else:\n",
    "    print(\"ham\")# indentation 3\n",
    "print(\"spam\")\n",
    "print(\"spam\")"
   ]
  },
  {
   "cell_type": "code",
   "execution_count": 10,
   "id": "7f313c78",
   "metadata": {},
   "outputs": [
    {
     "name": "stdout",
     "output_type": "stream",
     "text": [
      "please give a value to be stored in spam:12\n",
      "Greetings!\n"
     ]
    }
   ],
   "source": [
    "#8. Write code that prints Hello if 1 is stored in spam, prints Howdy if 2 is stored in spam, and prints\n",
    "#Greetings! if anything else is stored in spam.\n",
    "\n",
    "spam = input('please give a value to be stored in spam:')\n",
    "\n",
    "if int(spam) ==1:\n",
    "    print(\"Hello\")\n",
    "elif int(spam) == 2:\n",
    "    print(\"Howdy\")\n",
    "else:\n",
    "    print(\"Greetings!\")\n"
   ]
  },
  {
   "cell_type": "code",
   "execution_count": 12,
   "id": "ca6a3dcd",
   "metadata": {},
   "outputs": [
    {
     "name": "stdout",
     "output_type": "stream",
     "text": [
      "type 'jump' to break the loop:jump\n",
      "0\n",
      "1\n",
      "2\n",
      "3\n",
      "5\n",
      "6\n"
     ]
    }
   ],
   "source": [
    "#9.If your programme is stuck in an endless loop, what keys you’ll press?\n",
    "'''\n",
    "the keyword break causes the program to exit a loop early. break causes the program to jump out of for loops even if the \n",
    "for loop hasn't run the specified number of times.\n",
    "break causes the program to jump out of while loops even if the logical condition that defines the loop is still True.\n",
    "\n",
    "'''\n",
    "while True:\n",
    "    break_loop = input(\"type 'jump' to break the loop:\")\n",
    "    if break_loop == 'jump':\n",
    "        break\n",
    "        \n",
    "'''\n",
    "       \n",
    "the keyword continue causes the program to stop running code in a loop and start back at the top of the loop.\n",
    "'''\n",
    "\n",
    "'''\n",
    "while True:\n",
    "    continue_loop = input(\"type 'continue' to continue the loop:\")\n",
    "    if continue_loop == 'continue':\n",
    "        continue\n",
    "''' # endless loop for string values. include break in the code to end the loop\n",
    "\n",
    "for i in range(7):\n",
    "    if i==4:\n",
    "        continue\n",
    "    print(i) \n",
    "##the program hits the continue statement when i=4.print(i) isn't run when i=4.\n",
    "#Then the program starts the loop again with the nextci=5"
   ]
  },
  {
   "cell_type": "code",
   "execution_count": 13,
   "id": "d1a8a742",
   "metadata": {},
   "outputs": [
    {
     "data": {
      "text/plain": [
       "'\\nthe keyword break cause the program to exit a loop. continue is similar, but continue causes the program to\\nstop the current iteration of the loop and start the next iteration at the top of the loop.\\n'"
      ]
     },
     "execution_count": 13,
     "metadata": {},
     "output_type": "execute_result"
    }
   ],
   "source": [
    "#10. How can you tell the difference between break and continue?\n",
    "'''\n",
    "the keyword break cause the program to exit a loop. continue is similar, but continue causes the program to\n",
    "stop the current iteration of the loop and start the next iteration at the top of the loop.\n",
    "'''"
   ]
  },
  {
   "cell_type": "code",
   "execution_count": 14,
   "id": "8b6bf0c8",
   "metadata": {},
   "outputs": [
    {
     "data": {
      "text/plain": [
       "([0, 1, 2, 3, 4, 5, 6, 7, 8, 9],\n",
       " [0, 1, 2, 3, 4, 5, 6, 7, 8, 9],\n",
       " [0, 1, 2, 3, 4, 5, 6, 7, 8, 9])"
      ]
     },
     "execution_count": 14,
     "metadata": {},
     "output_type": "execute_result"
    }
   ],
   "source": [
    "#11. In a for loop, what is the difference between range(10), range(0, 10), and range(0, 10, 1)?\n",
    "a = []\n",
    "b= []\n",
    "c = []\n",
    "for i in range(10):\n",
    "    a.append(i)\n",
    "for j in range(0,10):\n",
    "    b.append(j)\n",
    "for k in range(0,10,1):\n",
    "    c.append(k)\n",
    "    \n",
    "a,b,c # all are same "
   ]
  },
  {
   "cell_type": "code",
   "execution_count": 15,
   "id": "5fd33f12",
   "metadata": {},
   "outputs": [
    {
     "name": "stdout",
     "output_type": "stream",
     "text": [
      "1\n",
      "2\n",
      "3\n",
      "4\n",
      "5\n",
      "6\n",
      "7\n",
      "8\n",
      "9\n",
      "10\n",
      "1\n",
      "2\n",
      "3\n",
      "4\n",
      "5\n",
      "6\n",
      "7\n",
      "8\n",
      "9\n",
      "10\n"
     ]
    }
   ],
   "source": [
    "#12. Write a short program that prints the numbers 1 to 10 using a for loop. Then write an equivalent\n",
    "#program that prints the numbers 1 to 10 using a while loop.\n",
    "\n",
    "for i in range(1,11):\n",
    "    print(i)\n",
    "    \n",
    "j = 1\n",
    "while j<11:\n",
    "    print(j)\n",
    "    j+=1"
   ]
  },
  {
   "cell_type": "code",
   "execution_count": 16,
   "id": "97ce14be",
   "metadata": {},
   "outputs": [
    {
     "data": {
      "text/plain": [
       "'\\nimport spam as sp\\ncall_fn = sp.bacon()\\n\\n'"
      ]
     },
     "execution_count": 16,
     "metadata": {},
     "output_type": "execute_result"
    }
   ],
   "source": [
    "#13. If you had a function named bacon() inside a module named spam, how would you call it after\n",
    "#importing spam?\n",
    "'''\n",
    "import spam as sp\n",
    "call_fn = sp.bacon()\n",
    "\n",
    "'''"
   ]
  },
  {
   "cell_type": "code",
   "execution_count": null,
   "id": "6fdf27c1",
   "metadata": {},
   "outputs": [],
   "source": []
  },
  {
   "cell_type": "code",
   "execution_count": null,
   "id": "45154e77",
   "metadata": {},
   "outputs": [],
   "source": []
  }
 ],
 "metadata": {
  "kernelspec": {
   "display_name": "Python 3 (ipykernel)",
   "language": "python",
   "name": "python3"
  },
  "language_info": {
   "codemirror_mode": {
    "name": "ipython",
    "version": 3
   },
   "file_extension": ".py",
   "mimetype": "text/x-python",
   "name": "python",
   "nbconvert_exporter": "python",
   "pygments_lexer": "ipython3",
   "version": "3.10.9"
  }
 },
 "nbformat": 4,
 "nbformat_minor": 5
}
