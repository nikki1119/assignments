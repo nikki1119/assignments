{
 "cells": [
  {
   "cell_type": "markdown",
   "id": "f272d66c",
   "metadata": {},
   "source": [
    "please refer to my solutions in form of multi-line comments"
   ]
  },
  {
   "cell_type": "code",
   "execution_count": 42,
   "id": "4ed2506a",
   "metadata": {},
   "outputs": [
    {
     "name": "stdout",
     "output_type": "stream",
     "text": [
      "<class 'str'> <class 'float'> <class 'int'>\n"
     ]
    }
   ],
   "source": [
    "#1. In the below elements which of them are values or an expression? eg:- values can be\n",
    "#integer or string and expressions will be mathematical operators.\n",
    "#*\n",
    "#\"hello\"\n",
    "#-87.8\n",
    "#-\n",
    "#/\n",
    "#+\n",
    "#6\n",
    "\"\"\" \n",
    "A value is a number or a string. Values are grouped into Data types/classes in python. \n",
    "function 'type' can give what datatype the given value is.\n",
    "values can be stored in variables or can be computed using expressions.\n",
    "\n",
    "An expression is a combination of values,mathematical operators,variables and calls to functions.\n",
    "an expression always gives value as a result.\n",
    "a value is also an expression. value, variable are subsets of expression.\n",
    "\n",
    "*,-,/,+ etc are mathematical operators that join variables or values to form an expression.\n",
    "\"hello\", -87.8,6 are values\n",
    "\"\"\"\n",
    "print(type(\"hello\"),type(-87.8),type(6)) # type function shows which class the value belongs to"
   ]
  },
  {
   "cell_type": "code",
   "execution_count": 43,
   "id": "8a51bc90",
   "metadata": {},
   "outputs": [],
   "source": [
    "#2. What is the difference between string and variable?\n",
    "'''\n",
    "\n",
    "A datatype/class of value in python that consist of string of alphanumeric characters enclosed in \" \"or' '\n",
    "\n",
    "A name given to the value for storing or to use it for further computation in the code.\n",
    "\n",
    "\n",
    "'''\n",
    "\n",
    "string_example = 'this is the first asignment in python'\n",
    "# here string_example is a variable which is storing the string 'this is the first asignment in python'"
   ]
  },
  {
   "cell_type": "code",
   "execution_count": 44,
   "id": "31f59f99",
   "metadata": {},
   "outputs": [
    {
     "name": "stdout",
     "output_type": "stream",
     "text": [
      "<class 'int'> <class 'float'> <class 'complex'> <class 'str'> <class 'bool'> <class 'bool'>\n"
     ]
    }
   ],
   "source": [
    "#3. Describe three different data types.\n",
    "'''\n",
    "Numeric : 1. int 2. float 3. complex\n",
    "1. int : holds values of all integers\n",
    "2. float: holds values of all floating point numbers\n",
    "3. complex : all complex numbers\n",
    "string: str : all sequences of characters in quotations \"\"\n",
    "boolean: 1. True 2. False\n",
    "\n",
    "'''\n",
    "a =  3\n",
    "b = 5.67\n",
    "c = 3+4j\n",
    "d = 'assignment'\n",
    "e = True\n",
    "f = False\n",
    "print(type(a),type(b),type(c),type(d),type(e),type(f))"
   ]
  },
  {
   "cell_type": "code",
   "execution_count": 45,
   "id": "78be251a",
   "metadata": {},
   "outputs": [
    {
     "data": {
      "text/plain": [
       "\"hello! how are you? i'm doing good\""
      ]
     },
     "execution_count": 45,
     "metadata": {},
     "output_type": "execute_result"
    }
   ],
   "source": [
    "#4. What is an expression made up of? What do all expressions do?\n",
    "''' expressions are made up of operators, variables and values which evaluates to a single output '''\n",
    "a = 'hello!'\n",
    "b = \"i'm doing good\" \n",
    "a+ ' how are you? '+b #expression\n",
    "# a ,b are variables made up of values and ' how are you? ' is a value , + is addition operator which is adding the three"
   ]
  },
  {
   "cell_type": "code",
   "execution_count": 46,
   "id": "15bac98a",
   "metadata": {},
   "outputs": [],
   "source": [
    "#5. This assignment statements, like spam = 10. What is the difference between an expression and a statement?\n",
    "''' \n",
    "when output value of the expression is assigned/stored to a variable it becomes a statement,right hand side of assignment \n",
    "statements are expressions or values. \n",
    "In the example spam = 10 , spam is a variable name whis has been assigned the value 10.\n",
    "'''\n",
    "1+6+9-4 # expression\n",
    "\n",
    "stat= 1+6+9-4 # statement"
   ]
  },
  {
   "cell_type": "code",
   "execution_count": 47,
   "id": "b025fd4e",
   "metadata": {},
   "outputs": [
    {
     "name": "stdout",
     "output_type": "stream",
     "text": [
      "22\n"
     ]
    },
    {
     "data": {
      "text/plain": [
       "' bacon has not been reassigned in a statement, just 1 is added to the expression, so bacon value has not changed '"
      ]
     },
     "execution_count": 47,
     "metadata": {},
     "output_type": "execute_result"
    }
   ],
   "source": [
    "#6. After running the following code, what does the variable bacon contain?\n",
    "#bacon = 22\n",
    "#bacon + 1\n",
    "\n",
    "bacon = 22\n",
    "bacon+1\n",
    "print(bacon)\n",
    "''' bacon has not been reassigned in a statement, just 1 is added to the expression, so bacon value has not changed '''"
   ]
  },
  {
   "cell_type": "code",
   "execution_count": 48,
   "id": "032046d5",
   "metadata": {},
   "outputs": [
    {
     "data": {
      "text/plain": [
       "'spamspamspam'"
      ]
     },
     "execution_count": 48,
     "metadata": {},
     "output_type": "execute_result"
    }
   ],
   "source": [
    "#7. What should the values of the following two terms be?\n",
    "#'spam' + 'spamspam'\n",
    "#'spam'*3\n",
    "\"\"\" both have the same output 'spamspamspam'\"\"\"\n",
    "'spam'*3"
   ]
  },
  {
   "cell_type": "code",
   "execution_count": 51,
   "id": "c4cb9ca6",
   "metadata": {},
   "outputs": [
    {
     "data": {
      "text/plain": [
       "400"
      ]
     },
     "execution_count": 51,
     "metadata": {},
     "output_type": "execute_result"
    }
   ],
   "source": [
    "#8. Why is eggs a valid variable name while 100 is invalid?\n",
    "'''\n",
    "1. eggs is not a keyword and donot have any special character (all alphabets), therefore a valid variable name \n",
    "2. while 100 is also not a keyword, the 100 has a value and hence a value cannot store another value, so 100 cannot be\n",
    "a variable name. by adding an underscore before 100 it can become a valid variable name.\n",
    "\n",
    "'''\n",
    "_100 = 400\n",
    "_100"
   ]
  },
  {
   "cell_type": "code",
   "execution_count": 52,
   "id": "c9479020",
   "metadata": {},
   "outputs": [
    {
     "data": {
      "text/plain": [
       "(123, 123.0, '123')"
      ]
     },
     "execution_count": 52,
     "metadata": {},
     "output_type": "execute_result"
    }
   ],
   "source": [
    "#9. What three functions can be used to get the integer, floating-point number, or string version of a value?\n",
    "\n",
    "''' suppose x is a variable, the functions int(), float(), str() are used to get the integer, floating point number, string version\n",
    "respectively'''\n",
    "x = 123\n",
    "int(x),float(x), str(x)"
   ]
  },
  {
   "cell_type": "code",
   "execution_count": 23,
   "id": "3ef70ffc",
   "metadata": {},
   "outputs": [
    {
     "data": {
      "text/plain": [
       "'I have eaten 99 burritos.'"
      ]
     },
     "execution_count": 23,
     "metadata": {},
     "output_type": "execute_result"
    }
   ],
   "source": [
    "#10. Why does this expression cause an error? How can you fix it?\n",
    "# 'I have eaten' + 99 + 'burritos.'\n",
    "\n",
    "\n",
    "'''the above expression throws an error because 99 is integer and other values in the expression are string. by converting the \n",
    "integer to string we can fix the expression to give a meaningful output'''\n",
    "'I have eaten ' + str(99) + ' burritos.'"
   ]
  },
  {
   "cell_type": "code",
   "execution_count": null,
   "id": "a8f54ed4",
   "metadata": {},
   "outputs": [],
   "source": []
  }
 ],
 "metadata": {
  "kernelspec": {
   "display_name": "Python 3 (ipykernel)",
   "language": "python",
   "name": "python3"
  },
  "language_info": {
   "codemirror_mode": {
    "name": "ipython",
    "version": 3
   },
   "file_extension": ".py",
   "mimetype": "text/x-python",
   "name": "python",
   "nbconvert_exporter": "python",
   "pygments_lexer": "ipython3",
   "version": "3.10.9"
  }
 },
 "nbformat": 4,
 "nbformat_minor": 5
}
