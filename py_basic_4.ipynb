{
 "cells": [
  {
   "cell_type": "code",
   "execution_count": 1,
   "id": "6cc13fa7",
   "metadata": {},
   "outputs": [
    {
     "name": "stdout",
     "output_type": "stream",
     "text": [
      "[] []\n"
     ]
    }
   ],
   "source": [
    "#1. What exactly is []?\n",
    "'''\n",
    "An empty list is list is denoted by [] with no elements/values in it\n",
    "it is created by using list() or simply[]\n",
    "\n",
    "'''\n",
    "a = list()\n",
    "b = []\n",
    "print(a,b)"
   ]
  },
  {
   "cell_type": "code",
   "execution_count": 2,
   "id": "0d17ecaf",
   "metadata": {},
   "outputs": [
    {
     "name": "stdout",
     "output_type": "stream",
     "text": [
      "[2, 4, 'hello', 6, 8, 10]\n"
     ]
    }
   ],
   "source": [
    "# 2. In a list of values stored in a variable called spam, how would you assign the value 'hello' as the third value?\n",
    "#(Assume [2, 4, 6, 8, 10] are in spam.)\n",
    "spam = [2,4,6,8,10]\n",
    "spam.insert(2,'hello')\n",
    "print(spam)"
   ]
  },
  {
   "cell_type": "code",
   "execution_count": 3,
   "id": "26bb353e",
   "metadata": {},
   "outputs": [],
   "source": [
    "spam = ['a','b','c','d']"
   ]
  },
  {
   "cell_type": "code",
   "execution_count": 4,
   "id": "06daf400",
   "metadata": {},
   "outputs": [
    {
     "name": "stdout",
     "output_type": "stream",
     "text": [
      "d\n"
     ]
    }
   ],
   "source": [
    "#3. What is the value of spam[int(int('3' * 2) / 11)]?\n",
    "\n",
    "#'3'*2 string '33' \n",
    "#print(int('3'*2)) #integer 33\n",
    "#print(int('3'*2)/11) #float 3.0\n",
    "#print(int(int('3'*2)/11)) #int 3\n",
    "#print(spam[3])\n",
    "print(spam[int(int('3'*2)/11)])"
   ]
  },
  {
   "cell_type": "code",
   "execution_count": 5,
   "id": "4dc514f0",
   "metadata": {},
   "outputs": [
    {
     "data": {
      "text/plain": [
       "'d'"
      ]
     },
     "execution_count": 5,
     "metadata": {},
     "output_type": "execute_result"
    }
   ],
   "source": [
    "#4. What is the value of spam[-1]?\n",
    "spam[-1]"
   ]
  },
  {
   "cell_type": "code",
   "execution_count": 6,
   "id": "3fc27363",
   "metadata": {},
   "outputs": [
    {
     "data": {
      "text/plain": [
       "'c'"
      ]
     },
     "execution_count": 6,
     "metadata": {},
     "output_type": "execute_result"
    }
   ],
   "source": [
    "#5. What is the value of spam[:2]?\n",
    "spam[-2]"
   ]
  },
  {
   "cell_type": "code",
   "execution_count": 7,
   "id": "cba7081b",
   "metadata": {},
   "outputs": [],
   "source": [
    "bacon = [3.14, 'cat', 11,'cat', True]"
   ]
  },
  {
   "cell_type": "code",
   "execution_count": 8,
   "id": "78ddd287",
   "metadata": {},
   "outputs": [
    {
     "name": "stdout",
     "output_type": "stream",
     "text": [
      "1\n",
      "3\n"
     ]
    }
   ],
   "source": [
    "#6. What is the value of bacon.index('cat')?\n",
    "print(bacon.index('cat'))#returns first index of value\n",
    "print(bacon.index('cat',2,8)) #returns index of value 'cat' after index 2 and before index 8"
   ]
  },
  {
   "cell_type": "code",
   "execution_count": 9,
   "id": "98dcfc32",
   "metadata": {},
   "outputs": [
    {
     "name": "stdout",
     "output_type": "stream",
     "text": [
      "[3.14, 'cat', 11, 'cat', True, 99]\n"
     ]
    }
   ],
   "source": [
    "#7. How does bacon.append(99) change the look of the list value in bacon?\n",
    "bacon = [3.14, 'cat', 11,'cat', True]\n",
    "bacon.append(99) # 99 is appended at the end of the list\n",
    "print(bacon)"
   ]
  },
  {
   "cell_type": "code",
   "execution_count": 10,
   "id": "f25691ca",
   "metadata": {},
   "outputs": [
    {
     "name": "stdout",
     "output_type": "stream",
     "text": [
      "[3.14, 11, 'cat', True, 99]\n"
     ]
    }
   ],
   "source": [
    "#8. How does bacon.remove('cat') change the look of the list in bacon?\n",
    "bacon.remove('cat')  # removes first index of value 'cat'\n",
    "print(bacon)"
   ]
  },
  {
   "cell_type": "code",
   "execution_count": 11,
   "id": "cbf02452",
   "metadata": {},
   "outputs": [
    {
     "name": "stdout",
     "output_type": "stream",
     "text": [
      "['a', 'b', 'c', 'd', 3.14, 11, 'cat', True, 99]\n",
      "[3.14, 11, 'cat', True, 99] [3.14, 11, 'cat', True, 99]\n"
     ]
    },
    {
     "data": {
      "text/plain": [
       "True"
      ]
     },
     "execution_count": 11,
     "metadata": {},
     "output_type": "execute_result"
    }
   ],
   "source": [
    "#9. What are the list concatenation and list replication operators?\n",
    "print(spam+bacon) # simply concat 2 lists by using +\n",
    "bacon2 =  bacon.copy()\n",
    "print(bacon,bacon2)\n",
    "bacon==bacon2"
   ]
  },
  {
   "cell_type": "code",
   "execution_count": 12,
   "id": "44a34d79",
   "metadata": {},
   "outputs": [
    {
     "name": "stdout",
     "output_type": "stream",
     "text": [
      "[3.14, 11, 'cat', True, 99, 12]\n",
      "[3.14, 11, 'inserted', 'cat', True, 99, 12]\n"
     ]
    }
   ],
   "source": [
    "#10. What is difference between the list methods append() and insert()?\n",
    "'''\n",
    "list.append(element) appends the new element at the end of the list\n",
    "list.insert(index, value) inserts the new value at the specified index number of the list\n",
    "\n",
    "'''\n",
    "bacon2.append(12)\n",
    "print(bacon2)\n",
    "bacon2.insert(2,'inserted')\n",
    "print(bacon2)"
   ]
  },
  {
   "cell_type": "code",
   "execution_count": 13,
   "id": "f255f81a",
   "metadata": {},
   "outputs": [
    {
     "name": "stdout",
     "output_type": "stream",
     "text": [
      "['a', 'd']\n"
     ]
    }
   ],
   "source": [
    "#11. What are the two methods for removing items from a list?\n",
    "a = ['a','b','c','d']\n",
    "a.remove(\"c\") # removing \"c\" from the list\n",
    "a.pop(1) # popping out the the value with index 1 from the list\n",
    "print(a)"
   ]
  },
  {
   "cell_type": "code",
   "execution_count": 14,
   "id": "6dd29168",
   "metadata": {},
   "outputs": [
    {
     "name": "stdout",
     "output_type": "stream",
     "text": [
      "['', 'This', 'program', 'teaches', 'students', 'how', 'to', 'extract', 'insights', 'from', 'data', 'using', 'statistical', 'and', 'machine', 'learning', 'techniques']\n"
     ]
    },
    {
     "data": {
      "text/plain": [
       "' This program teaches students how to extract insights from data using statistical and machine learning techniques'"
      ]
     },
     "execution_count": 14,
     "metadata": {},
     "output_type": "execute_result"
    }
   ],
   "source": [
    "#12. Describe how list values and string values are identical\n",
    "'''\n",
    "Strings, lists, and tuples are all sequence types, so called because\n",
    "they behave like a sequence - an ordered collection of objects.\n",
    "except that lists are mutable whereas string is not\n",
    "Many of the things you can do with lists can also be done with strings: indexing; slicing; and using them\n",
    "with for loops, with len(), and with the in and not in operators\n",
    "'''\n",
    "st = \" This program teaches students how to extract insights from data using statistical and machine learning techniques\"\n",
    "st_list = st.split(\" \")\n",
    "print(st_list)\n",
    "\" \".join(st_list)"
   ]
  },
  {
   "cell_type": "code",
   "execution_count": 15,
   "id": "ea81a6c5",
   "metadata": {},
   "outputs": [
    {
     "data": {
      "text/plain": [
       "'\\nA list is like array - the objects it stores are ordered sequentially in slots.\\nare mutable/dynamic - they can be changed at any time by adding, removing or changing objects.\\nordered immutable collection of objects : cannot be changes after creation\\n\\n'"
      ]
     },
     "execution_count": 15,
     "metadata": {},
     "output_type": "execute_result"
    }
   ],
   "source": [
    "#13. What's the difference between tuples and lists?\n",
    "'''\n",
    "A list is like array - the objects it stores are ordered sequentially in slots.\n",
    "are mutable/dynamic - they can be changed at any time by adding, removing or changing objects.\n",
    "ordered immutable collection of objects : cannot be changes after creation\n",
    "\n",
    "'''"
   ]
  },
  {
   "cell_type": "code",
   "execution_count": 16,
   "id": "cf0c1589",
   "metadata": {},
   "outputs": [
    {
     "data": {
      "text/plain": [
       "tuple"
      ]
     },
     "execution_count": 16,
     "metadata": {},
     "output_type": "execute_result"
    }
   ],
   "source": [
    "#14. How do you type a tuple value that only contains the integer 42?\n",
    "tup = (42,)\n",
    "type(tup)"
   ]
  },
  {
   "cell_type": "code",
   "execution_count": 17,
   "id": "f6efcd41",
   "metadata": {},
   "outputs": [
    {
     "name": "stdout",
     "output_type": "stream",
     "text": [
      "(1, 2, 3, 4) [1, 2, 3, 4]\n"
     ]
    }
   ],
   "source": [
    "#15. How do you get a list value's tuple form? How do you get a tuple value's list form?\n",
    "b = [1,2,3,4] \n",
    "c = tuple(b)# list to tuple\n",
    "d = list(c)# tuple to list\n",
    "print(c,d)"
   ]
  },
  {
   "cell_type": "code",
   "execution_count": 18,
   "id": "7acf7a18",
   "metadata": {},
   "outputs": [
    {
     "name": "stdout",
     "output_type": "stream",
     "text": [
      "['as', 'df', 2, 'jk'] ['as', 'df', 2, 'jk']\n"
     ]
    }
   ],
   "source": [
    "#16. Variables that \"contain\" list values are not necessarily lists themselves. Instead, what do they contain?\n",
    "\n",
    "'''\n",
    "Variables will contain references to list values rather than list values themselves. But for strings and integer values,\n",
    "variables simply contain the string or integer value. \n",
    "Python uses references whenever variables must store values of mutable data types, such as lists or dictionaries\n",
    "\n",
    "'''\n",
    "\n",
    "e = ['as','df','gh','jk']\n",
    "f = e\n",
    "f[2] = 2\n",
    "print(f,e) # both e, f changes as both refer to the same list reference"
   ]
  },
  {
   "cell_type": "code",
   "execution_count": 19,
   "id": "a1c646c0",
   "metadata": {},
   "outputs": [
    {
     "name": "stdout",
     "output_type": "stream",
     "text": [
      "['as', 'df', 'gh', [4, 'll'], 'jk'] ['as', 'df', 'gh', [4, 'll'], 'jk'] ['as', 'df', 'gh', ['he', 'll'], 'jk']\n"
     ]
    }
   ],
   "source": [
    "#17. How do you distinguish between copy.copy() and copy.deepcopy()?\n",
    "'''\n",
    "if  there are lists inside the list we intend to copy, we generally use deepcopy (nestsed lists)'''\n",
    "import copy\n",
    "e = ['as','df','gh',['he','ll'],'jk']\n",
    "g = copy.copy(e)\n",
    "h = copy.deepcopy(e)\n",
    "g[3][0] = 4\n",
    "\n",
    "print(e,g,h)"
   ]
  },
  {
   "cell_type": "code",
   "execution_count": null,
   "id": "40d3dbdf",
   "metadata": {},
   "outputs": [],
   "source": []
  },
  {
   "cell_type": "code",
   "execution_count": null,
   "id": "67b4f3d5",
   "metadata": {},
   "outputs": [],
   "source": []
  }
 ],
 "metadata": {
  "kernelspec": {
   "display_name": "Python 3 (ipykernel)",
   "language": "python",
   "name": "python3"
  },
  "language_info": {
   "codemirror_mode": {
    "name": "ipython",
    "version": 3
   },
   "file_extension": ".py",
   "mimetype": "text/x-python",
   "name": "python",
   "nbconvert_exporter": "python",
   "pygments_lexer": "ipython3",
   "version": "3.10.9"
  }
 },
 "nbformat": 4,
 "nbformat_minor": 5
}
