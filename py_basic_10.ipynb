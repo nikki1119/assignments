{
 "cells": [
  {
   "cell_type": "code",
   "execution_count": 1,
   "id": "1ca70882",
   "metadata": {},
   "outputs": [
    {
     "data": {
      "text/plain": [
       "'\\nTo handle runtime errors try and except blocks are used.\\nTry block: contains the code that might raise exceptions\\nExcept block : if exceptions are raised in try block, the code in this except block will be run; it allows us to define the \\naction to be taken for that particular error raised in the try block.\\n\\n'"
      ]
     },
     "execution_count": 1,
     "metadata": {},
     "output_type": "execute_result"
    }
   ],
   "source": [
    "# 1. What is the role of try and exception block?\n",
    "\n",
    "'''\n",
    "To handle runtime errors try and except blocks are used.\n",
    "Try block: contains the code that might raise exceptions\n",
    "Except block : if exceptions are raised in try block, the code in this except block will be run; it allows us to define the \n",
    "action to be taken for that particular error raised in the try block.\n",
    "\n",
    "'''"
   ]
  },
  {
   "cell_type": "code",
   "execution_count": 2,
   "id": "03323599",
   "metadata": {},
   "outputs": [
    {
     "ename": "NameError",
     "evalue": "name 'v' is not defined",
     "output_type": "error",
     "traceback": [
      "\u001b[1;31m---------------------------------------------------------------------------\u001b[0m",
      "\u001b[1;31mNameError\u001b[0m                                 Traceback (most recent call last)",
      "Cell \u001b[1;32mIn[2], line 17\u001b[0m\n\u001b[0;32m      1\u001b[0m \u001b[38;5;66;03m# 2. What is the syntax for a basic try-except block?\u001b[39;00m\n\u001b[0;32m      2\u001b[0m \u001b[38;5;124;03m'''\u001b[39;00m\n\u001b[0;32m      3\u001b[0m \u001b[38;5;124;03mtry:\u001b[39;00m\n\u001b[0;32m      4\u001b[0m \u001b[38;5;124;03m    code that might give exceptions\u001b[39;00m\n\u001b[1;32m   (...)\u001b[0m\n\u001b[0;32m     15\u001b[0m \n\u001b[0;32m     16\u001b[0m \u001b[38;5;124;03m'''\u001b[39;00m\n\u001b[1;32m---> 17\u001b[0m \u001b[38;5;28mprint\u001b[39m(\u001b[43mv\u001b[49m)\n",
      "\u001b[1;31mNameError\u001b[0m: name 'v' is not defined"
     ]
    }
   ],
   "source": [
    "# 2. What is the syntax for a basic try-except block?\n",
    "'''\n",
    "try:\n",
    "    code that might give exceptions\n",
    "   ...\n",
    "except Exception1:\n",
    "    If there is Exception1, then execute this block\n",
    "except Exception2:\n",
    "    If there is Exception2, then execute this block\n",
    "    ...\n",
    "else:\n",
    "    If there is no exception then execute this block\n",
    "finally:\n",
    "    this block of code will always be executed no matter what\n",
    "\n",
    "'''\n",
    "print(v)"
   ]
  },
  {
   "cell_type": "code",
   "execution_count": 3,
   "id": "b0a57627",
   "metadata": {},
   "outputs": [
    {
     "name": "stdout",
     "output_type": "stream",
     "text": [
      "name error: name 'v' is not defined\n"
     ]
    }
   ],
   "source": [
    "try:\n",
    "    print(v)\n",
    "except NameError as N:\n",
    "    print(f'name error: {N}')"
   ]
  },
  {
   "cell_type": "code",
   "execution_count": 4,
   "id": "c4236c07",
   "metadata": {},
   "outputs": [
    {
     "ename": "TypeError",
     "evalue": "can only concatenate str (not \"int\") to str",
     "output_type": "error",
     "traceback": [
      "\u001b[1;31m---------------------------------------------------------------------------\u001b[0m",
      "\u001b[1;31mTypeError\u001b[0m                                 Traceback (most recent call last)",
      "Cell \u001b[1;32mIn[4], line 7\u001b[0m\n\u001b[0;32m      2\u001b[0m \u001b[38;5;124;03m'''\u001b[39;00m\n\u001b[0;32m      3\u001b[0m \u001b[38;5;124;03mif an appropriate/matching except block is not found, then program execution will stop and it will not run further\u001b[39;00m\n\u001b[0;32m      4\u001b[0m \n\u001b[0;32m      5\u001b[0m \u001b[38;5;124;03m'''\u001b[39;00m\n\u001b[0;32m      6\u001b[0m \u001b[38;5;28;01mtry\u001b[39;00m:\n\u001b[1;32m----> 7\u001b[0m     \u001b[38;5;28mprint\u001b[39m(\u001b[38;5;124;43m'\u001b[39;49m\u001b[38;5;124;43mv\u001b[39;49m\u001b[38;5;124;43m'\u001b[39;49m\u001b[38;5;241;43m+\u001b[39;49m\u001b[38;5;241;43m12\u001b[39;49m)\n\u001b[0;32m      8\u001b[0m \u001b[38;5;28;01mexcept\u001b[39;00m \u001b[38;5;167;01mNameError\u001b[39;00m \u001b[38;5;28;01mas\u001b[39;00m N:\n\u001b[0;32m      9\u001b[0m     \u001b[38;5;28mprint\u001b[39m(\u001b[38;5;124mf\u001b[39m\u001b[38;5;124m'\u001b[39m\u001b[38;5;124mname error: \u001b[39m\u001b[38;5;132;01m{\u001b[39;00mN\u001b[38;5;132;01m}\u001b[39;00m\u001b[38;5;124m'\u001b[39m)\n",
      "\u001b[1;31mTypeError\u001b[0m: can only concatenate str (not \"int\") to str"
     ]
    }
   ],
   "source": [
    "# 3. What happens if an exception occurs inside a try block and there is no matching except block?\n",
    "'''\n",
    "if an appropriate/matching except block is not found, then program execution will stop and it will not run further\n",
    "\n",
    "'''\n",
    "try:\n",
    "    print('v'+12)\n",
    "except NameError as N:\n",
    "    print(f'name error: {N}')"
   ]
  },
  {
   "cell_type": "code",
   "execution_count": 5,
   "id": "cfcab67c",
   "metadata": {},
   "outputs": [
    {
     "name": "stdout",
     "output_type": "stream",
     "text": [
      "some error\n"
     ]
    }
   ],
   "source": [
    "try:\n",
    "    print('v'+12)\n",
    "except:\n",
    "    print('some error')"
   ]
  },
  {
   "cell_type": "code",
   "execution_count": 6,
   "id": "a4b1b8d0",
   "metadata": {},
   "outputs": [
    {
     "data": {
      "text/plain": [
       "'\\nBare except catches all the exceptions without giving any specific exception objects to inspect. No matter what the problem is\\nthe user will get same generic message mentioned in the except block\\n\\ninstead of catching all the errors using bare except, handle the exceptions we know and can expect while writing the code using \\nspecific exception e.g : ZeroDivisionError, ValueError,MemoryError\\n'"
      ]
     },
     "execution_count": 6,
     "metadata": {},
     "output_type": "execute_result"
    }
   ],
   "source": [
    "# 4. What is the difference between using a bare except block and specifying a specific exception type?\n",
    "'''\n",
    "Bare except catches all the exceptions without giving any specific exception objects to inspect. No matter what the problem is\n",
    "the user will get same generic message mentioned in the except block\n",
    "\n",
    "instead of catching all the errors using bare except, handle the exceptions we know and can expect while writing the code using \n",
    "specific exception e.g : ZeroDivisionError, ValueError,MemoryError\n",
    "'''"
   ]
  },
  {
   "cell_type": "code",
   "execution_count": 7,
   "id": "9cdacdb9",
   "metadata": {},
   "outputs": [
    {
     "name": "stdout",
     "output_type": "stream",
     "text": [
      "some error\n"
     ]
    }
   ],
   "source": [
    "try:\n",
    "    print(1026**1312334)\n",
    "except:\n",
    "    print('some error') # type of error doesnot matter, prints 'some error' in all kinds of exceptions"
   ]
  },
  {
   "cell_type": "code",
   "execution_count": 8,
   "id": "d3871d09",
   "metadata": {},
   "outputs": [
    {
     "name": "stdout",
     "output_type": "stream",
     "text": [
      "Exceeds the limit (4300) for integer string conversion; use sys.set_int_max_str_digits() to increase the limit\n"
     ]
    }
   ],
   "source": [
    "try:\n",
    "    print(1026**1312334)\n",
    "except ValueError as v: # using specific exception type\n",
    "    print(v)"
   ]
  },
  {
   "cell_type": "code",
   "execution_count": 9,
   "id": "c81d8d1f",
   "metadata": {},
   "outputs": [
    {
     "ename": "ValueError",
     "evalue": "Exceeds the limit (4300) for integer string conversion; use sys.set_int_max_str_digits() to increase the limit",
     "output_type": "error",
     "traceback": [
      "\u001b[1;31m---------------------------------------------------------------------------\u001b[0m",
      "\u001b[1;31mValueError\u001b[0m                                Traceback (most recent call last)",
      "Cell \u001b[1;32mIn[9], line 2\u001b[0m\n\u001b[0;32m      1\u001b[0m \u001b[38;5;28;01mtry\u001b[39;00m:\n\u001b[1;32m----> 2\u001b[0m     \u001b[38;5;28;43mprint\u001b[39;49m\u001b[43m(\u001b[49m\u001b[38;5;241;43m1026\u001b[39;49m\u001b[38;5;241;43m*\u001b[39;49m\u001b[38;5;241;43m*\u001b[39;49m\u001b[38;5;241;43m1312334\u001b[39;49m\u001b[43m)\u001b[49m\n\u001b[0;32m      3\u001b[0m \u001b[38;5;28;01mexcept\u001b[39;00m \u001b[38;5;167;01mMemoryError\u001b[39;00m \u001b[38;5;28;01mas\u001b[39;00m v: \u001b[38;5;66;03m# using specific exception type, we get to know to what type of error crashed the program \u001b[39;00m\n\u001b[0;32m      4\u001b[0m     \u001b[38;5;28mprint\u001b[39m(v)\n",
      "\u001b[1;31mValueError\u001b[0m: Exceeds the limit (4300) for integer string conversion; use sys.set_int_max_str_digits() to increase the limit"
     ]
    }
   ],
   "source": [
    "try:\n",
    "    print(1026**1312334)\n",
    "except MemoryError as v: # using specific exception type, we get to know to what type of error crashed the program \n",
    "    print(v)"
   ]
  },
  {
   "cell_type": "code",
   "execution_count": null,
   "id": "fb02fe38",
   "metadata": {},
   "outputs": [],
   "source": [
    "# 5. Can you have nested try-except blocks in Python? If yes, then give an example.\n",
    "'''\n",
    "we can have nested try-except blocks\n",
    "'''\n",
    "def f(z):\n",
    "    try:\n",
    "        print(4/z)\n",
    "    except ZeroDivisionError:\n",
    "        try:\n",
    "            print('y')\n",
    "        except NameError:\n",
    "            print('y not defined')\n",
    "f(0)"
   ]
  },
  {
   "cell_type": "code",
   "execution_count": null,
   "id": "3e0418e9",
   "metadata": {},
   "outputs": [],
   "source": [
    "# 6. Can we use multiple exception blocks, if yes then give an example.\n",
    "try:\n",
    "    print('v'+12)\n",
    "except NameError as N:\n",
    "    print(f'name error: {N}')\n",
    "except TypeError as T:\n",
    "    print(f'Type error: {T}')"
   ]
  },
  {
   "cell_type": "code",
   "execution_count": null,
   "id": "f7d66f51",
   "metadata": {},
   "outputs": [],
   "source": [
    "# 7. Write the reason due to which following errors are raised:\n",
    "# a. EOFError :\n",
    "# b. FloatingPointError\n",
    "# c. IndexError\n",
    "# d. MemoryError\n",
    "# e. OverflowError\n",
    "# f. TabError\n",
    "# g. ValueError\n",
    "\n",
    "'''\n",
    "EOFError: Raised when the input() function hits an end-of-file condition (EOF)\n",
    "\n",
    "FloatingPointError: Raised when a floating point operation fails.\n",
    "\n",
    "IndexError: Raised when a sequence subscript (index) is out of range.\n",
    "\n",
    "MemoryError: Raised when an operation runs out of memory\n",
    "\n",
    "OverflowError: Raised when the result of an arithmetic operation is too large to be expressed.\n",
    "\n",
    "TabError: Raised when indentation contains mixed tabs and spaces.\n",
    "\n",
    "ValueError: Raised when a built-in operation or function receives an argument that has the right type \n",
    "but an inappropriate value.\n",
    "'''\n",
    "\n",
    "\n"
   ]
  },
  {
   "cell_type": "code",
   "execution_count": 53,
   "id": "f45c2791",
   "metadata": {},
   "outputs": [
    {
     "ename": "IndexError",
     "evalue": "string index out of range",
     "output_type": "error",
     "traceback": [
      "\u001b[1;31m---------------------------------------------------------------------------\u001b[0m",
      "\u001b[1;31mIndexError\u001b[0m                                Traceback (most recent call last)",
      "Cell \u001b[1;32mIn[53], line 3\u001b[0m\n\u001b[0;32m      1\u001b[0m \u001b[38;5;66;03m## IndexError\u001b[39;00m\n\u001b[0;32m      2\u001b[0m my_name \u001b[38;5;241m=\u001b[39m \u001b[38;5;124m'\u001b[39m\u001b[38;5;124mwragsrtkgnesrign\u001b[39m\u001b[38;5;124m'\u001b[39m\n\u001b[1;32m----> 3\u001b[0m \u001b[43mmy_name\u001b[49m\u001b[43m[\u001b[49m\u001b[38;5;241;43m30\u001b[39;49m\u001b[43m]\u001b[49m\n",
      "\u001b[1;31mIndexError\u001b[0m: string index out of range"
     ]
    }
   ],
   "source": [
    "## IndexError\n",
    "my_name = 'wragsrtkgnesrign'\n",
    "my_name[30]"
   ]
  },
  {
   "cell_type": "code",
   "execution_count": 52,
   "id": "fc672e94",
   "metadata": {},
   "outputs": [
    {
     "ename": "MemoryError",
     "evalue": "",
     "output_type": "error",
     "traceback": [
      "\u001b[1;31m---------------------------------------------------------------------------\u001b[0m",
      "\u001b[1;31mMemoryError\u001b[0m                               Traceback (most recent call last)",
      "Cell \u001b[1;32mIn[52], line 2\u001b[0m\n\u001b[0;32m      1\u001b[0m \u001b[38;5;66;03m## MemoryError\u001b[39;00m\n\u001b[1;32m----> 2\u001b[0m my_list \u001b[38;5;241m=\u001b[39m [i \u001b[38;5;28;01mfor\u001b[39;00m i \u001b[38;5;129;01min\u001b[39;00m \u001b[38;5;28mrange\u001b[39m(\u001b[38;5;241m1000000000\u001b[39m)]\n",
      "Cell \u001b[1;32mIn[52], line 2\u001b[0m, in \u001b[0;36m<listcomp>\u001b[1;34m(.0)\u001b[0m\n\u001b[0;32m      1\u001b[0m \u001b[38;5;66;03m## MemoryError\u001b[39;00m\n\u001b[1;32m----> 2\u001b[0m my_list \u001b[38;5;241m=\u001b[39m [i \u001b[38;5;28;01mfor\u001b[39;00m i \u001b[38;5;129;01min\u001b[39;00m \u001b[38;5;28mrange\u001b[39m(\u001b[38;5;241m1000000000\u001b[39m)]\n",
      "\u001b[1;31mMemoryError\u001b[0m: "
     ]
    }
   ],
   "source": [
    "## MemoryError\n",
    "my_list = [i for i in range(1000000000)]"
   ]
  },
  {
   "cell_type": "code",
   "execution_count": 47,
   "id": "ee6c3b96",
   "metadata": {},
   "outputs": [
    {
     "ename": "OverflowError",
     "evalue": "math range error",
     "output_type": "error",
     "traceback": [
      "\u001b[1;31m---------------------------------------------------------------------------\u001b[0m",
      "\u001b[1;31mOverflowError\u001b[0m                             Traceback (most recent call last)",
      "Cell \u001b[1;32mIn[47], line 2\u001b[0m\n\u001b[0;32m      1\u001b[0m \u001b[38;5;28;01mimport\u001b[39;00m \u001b[38;5;21;01mmath\u001b[39;00m\n\u001b[1;32m----> 2\u001b[0m \u001b[43mmath\u001b[49m\u001b[38;5;241;43m.\u001b[39;49m\u001b[43mexp\u001b[49m\u001b[43m(\u001b[49m\u001b[38;5;241;43m3000\u001b[39;49m\u001b[43m)\u001b[49m\n",
      "\u001b[1;31mOverflowError\u001b[0m: math range error"
     ]
    }
   ],
   "source": [
    "## OverflowError\n",
    "\n",
    "import math\n",
    "math.exp(3000)"
   ]
  },
  {
   "cell_type": "code",
   "execution_count": 40,
   "id": "8dd4b299",
   "metadata": {},
   "outputs": [
    {
     "ename": "IndentationError",
     "evalue": "unindent does not match any outer indentation level (<tokenize>, line 7)",
     "output_type": "error",
     "traceback": [
      "\u001b[1;36m  File \u001b[1;32m<tokenize>:7\u001b[1;36m\u001b[0m\n\u001b[1;33m    else:\u001b[0m\n\u001b[1;37m    ^\u001b[0m\n\u001b[1;31mIndentationError\u001b[0m\u001b[1;31m:\u001b[0m unindent does not match any outer indentation level\n"
     ]
    }
   ],
   "source": [
    "## TabError\n",
    "\n",
    "a = int(input(\"Please enter an integer: \"))\n",
    "b = int(input(\"Please enter an integer: \"))\n",
    "if b >= a:\n",
    "       print(\"b is greater than or equals to a\")\n",
    "   else:\n",
    "       print(\"a is greater than b\")"
   ]
  },
  {
   "cell_type": "code",
   "execution_count": 22,
   "id": "865cb147",
   "metadata": {},
   "outputs": [
    {
     "name": "stdout",
     "output_type": "stream",
     "text": [
      "please give a integer value: \n"
     ]
    },
    {
     "ename": "ValueError",
     "evalue": "invalid literal for int() with base 10: ''",
     "output_type": "error",
     "traceback": [
      "\u001b[1;31m---------------------------------------------------------------------------\u001b[0m",
      "\u001b[1;31mValueError\u001b[0m                                Traceback (most recent call last)",
      "Cell \u001b[1;32mIn[22], line 2\u001b[0m\n\u001b[0;32m      1\u001b[0m \u001b[38;5;66;03m## valueError\u001b[39;00m\n\u001b[1;32m----> 2\u001b[0m a \u001b[38;5;241m=\u001b[39m \u001b[38;5;28;43mint\u001b[39;49m\u001b[43m(\u001b[49m\u001b[38;5;28;43minput\u001b[39;49m\u001b[43m(\u001b[49m\u001b[38;5;124;43m'\u001b[39;49m\u001b[38;5;124;43mplease give a integer value: \u001b[39;49m\u001b[38;5;124;43m'\u001b[39;49m\u001b[43m)\u001b[49m\u001b[43m)\u001b[49m\n\u001b[0;32m      3\u001b[0m \u001b[38;5;28;01mimport\u001b[39;00m \u001b[38;5;21;01mmath\u001b[39;00m\n\u001b[0;32m      4\u001b[0m math\u001b[38;5;241m.\u001b[39msqrt(a)\n",
      "\u001b[1;31mValueError\u001b[0m: invalid literal for int() with base 10: ''"
     ]
    }
   ],
   "source": [
    "## valueError\n",
    "a = int(input('please give a integer value: '))\n",
    "import math\n",
    "math.sqrt(a)"
   ]
  },
  {
   "cell_type": "code",
   "execution_count": 57,
   "id": "f8a846a7",
   "metadata": {},
   "outputs": [
    {
     "name": "stdout",
     "output_type": "stream",
     "text": [
      "0.19999999999999973\n"
     ]
    }
   ],
   "source": [
    "## FLoatingPointError\n",
    "print(3.4-3.2)"
   ]
  },
  {
   "cell_type": "code",
   "execution_count": null,
   "id": "2651ff94",
   "metadata": {},
   "outputs": [],
   "source": [
    "# 8. Write code for the following given scenario and add try-exception block to it.\n",
    "# a. Program to divide two numbers\n",
    "# b. Program to convert a string to an integer\n",
    "# c. Program to access an element in a list\n",
    "# d. Program to handle a specific exception\n",
    "# e. Program to handle any exception"
   ]
  },
  {
   "cell_type": "code",
   "execution_count": 10,
   "id": "5343b379",
   "metadata": {},
   "outputs": [
    {
     "name": "stdout",
     "output_type": "stream",
     "text": [
      "numerator: 1\n",
      "denominator: 2\n",
      "division: 0.5\n"
     ]
    }
   ],
   "source": [
    "try:\n",
    "    n = int(input(\"numerator: \"))\n",
    "    d = int(input(\"denominator: \"))\n",
    "\n",
    "    div = n / d\n",
    "    print(\"division:\", div)\n",
    "\n",
    "except ValueError as V:\n",
    "    print(f\"{V}: Please enter valid integers for the numerator and denominator.\")\n",
    "\n",
    "except ZeroDivisionError as Z:\n",
    "    print(f\"{Z}: Division by zero is not allowed.\")"
   ]
  },
  {
   "cell_type": "code",
   "execution_count": 11,
   "id": "21c38e64",
   "metadata": {},
   "outputs": [
    {
     "name": "stdout",
     "output_type": "stream",
     "text": [
      "please give a integer: 23\n",
      "23\n"
     ]
    }
   ],
   "source": [
    "try:\n",
    "    st = input(\"please give a integer: \")\n",
    "    print(int(st))\n",
    "except ValueError:\n",
    "    print(\"please give valid integer\")"
   ]
  },
  {
   "cell_type": "code",
   "execution_count": 12,
   "id": "98b7cde3",
   "metadata": {},
   "outputs": [
    {
     "name": "stdout",
     "output_type": "stream",
     "text": [
      "[11, 11, 24, 30, 8, 13, 29, 7, 7, 24]\n",
      "please give a integer:4\n",
      "8\n"
     ]
    }
   ],
   "source": [
    "import random\n",
    "lst = []\n",
    "for i in range(0,10):\n",
    "    n = random.randint(1,30)\n",
    "    lst.append(n)\n",
    "print(lst)\n",
    "try:\n",
    "    k = int(input('please give a integer:'))\n",
    "    print(lst[k])\n",
    "except IndexError as I:\n",
    "    print(f'{I}: please give a number less than size of the list <10')"
   ]
  },
  {
   "cell_type": "code",
   "execution_count": 13,
   "id": "37ea3b08",
   "metadata": {},
   "outputs": [],
   "source": [
    "# the above three are also examples of handling a specific exception : when the name of error is mentioned in except block"
   ]
  },
  {
   "cell_type": "code",
   "execution_count": 14,
   "id": "03a58f58",
   "metadata": {},
   "outputs": [
    {
     "name": "stdout",
     "output_type": "stream",
     "text": [
      "numerator: 3\n",
      "denominator: 5\n",
      "division: 0.6\n"
     ]
    },
    {
     "data": {
      "text/plain": [
       "\" it is best practice to use a specific exception even when we don't know what error it is: because when we run the program\\nit will throw what kind of error encountered so we can take care of the error next time; \\nbut when simple error is used all types of errors are caught in it and the programmers will not know of the type of errors\\nencountered.\""
      ]
     },
     "execution_count": 14,
     "metadata": {},
     "output_type": "execute_result"
    }
   ],
   "source": [
    "# handling any error\n",
    "\n",
    "try:\n",
    "    n = int(input(\"numerator: \"))\n",
    "    d = int(input(\"denominator: \"))\n",
    "\n",
    "    div = n / d\n",
    "    print(\"division:\", div)\n",
    "\n",
    "except: # when we dont specify the kind of error, all errors are caught\n",
    "    print('some error occured')\n",
    "    \n",
    "''' it is best practice to use a specific exception even when we don't know what error it is: because when we run the program\n",
    "it will throw what kind of error encountered so we can take care of the error next time; \n",
    "but when simple error is used all types of errors are caught in it and the programmers will not know of the type of errors\n",
    "encountered.'''"
   ]
  },
  {
   "cell_type": "code",
   "execution_count": null,
   "id": "f53980d1",
   "metadata": {},
   "outputs": [],
   "source": []
  }
 ],
 "metadata": {
  "kernelspec": {
   "display_name": "Python 3 (ipykernel)",
   "language": "python",
   "name": "python3"
  },
  "language_info": {
   "codemirror_mode": {
    "name": "ipython",
    "version": 3
   },
   "file_extension": ".py",
   "mimetype": "text/x-python",
   "name": "python",
   "nbconvert_exporter": "python",
   "pygments_lexer": "ipython3",
   "version": "3.10.9"
  }
 },
 "nbformat": 4,
 "nbformat_minor": 5
}
